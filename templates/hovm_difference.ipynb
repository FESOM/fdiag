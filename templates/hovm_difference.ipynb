{
 "cells": [
  {
   "cell_type": "code",
   "execution_count": 5,
   "metadata": {},
   "outputs": [],
   "source": [
    "import pyfesom2 as pf\n",
    "import xarray as xr\n",
    "import os\n",
    "import pandas as pd\n",
    "from collections import OrderedDict\n",
    "from itertools import product\n",
    "import matplotlib.pylab as plt\n",
    "import numpy as np\n",
    "from matplotlib import cm\n",
    "%matplotlib inline"
   ]
  },
  {
   "cell_type": "code",
   "execution_count": 6,
   "metadata": {
    "tags": [
     "parameters"
    ]
   },
   "outputs": [],
   "source": [
    "# parameters cell\n",
    "meshpath = '/work/ollie/nkolduno/meshes/CORE2_fesom2/'\n",
    "abg = [50, 15, -90]\n",
    "variable = 'temp'\n",
    "input_paths = [\"/work/ollie/nkolduno/output_visc_control/\",\n",
    "               '/work/ollie/nkolduno/output_option_1/',\n",
    "               ]\n",
    "input_names = ['control', 'opt1']\n",
    "years = range(1948, 2009)\n",
    "reference_path = '/work/ollie/nkolduno/CLIMATOLOGY/core2_meanz/'\n",
    "reference_name = 'clim'\n",
    "reference_years = 1948\n",
    "figsize=(10, 5)\n",
    "levels = [-1, 1, 41]\n",
    "maxdepth = 2000\n",
    "units = r'$^\\circ$C'\n",
    "ofile = None\n",
    "region = \"Eurasian basin\""
   ]
  },
  {
   "cell_type": "code",
   "execution_count": 3,
   "metadata": {},
   "outputs": [],
   "source": [
    "if input_names is None:\n",
    "    input_names = []\n",
    "    for run in input_paths:\n",
    "        run = os.path.join(run, '')\n",
    "        input_names.append(run.split('/')[-2])"
   ]
  },
  {
   "cell_type": "code",
   "execution_count": 4,
   "metadata": {},
   "outputs": [
    {
     "name": "stdout",
     "output_type": "stream",
     "text": [
      "/work/ollie/nkolduno/meshes/CORE2_fesom2/pickle_mesh_py3_fesom2\n",
      "The usepickle == True)\n",
      "The pickle file for FESOM2 exists.\n",
      "The mesh will be loaded from /work/ollie/nkolduno/meshes/CORE2_fesom2/pickle_mesh_py3_fesom2\n"
     ]
    }
   ],
   "source": [
    "mesh = pf.load_mesh(meshpath, abg=abg, \n",
    "                    usepickle=True, usejoblib=False)"
   ]
  },
  {
   "cell_type": "code",
   "execution_count": 5,
   "metadata": {},
   "outputs": [
    {
     "name": "stderr",
     "output_type": "stream",
     "text": [
      "/home/ollie/nkolduno/miniconda3/envs/pyfesom2/lib/python3.6/site-packages/dask/core.py:119: RuntimeWarning: invalid value encountered in true_divide\n",
      "  return func(*args2)\n",
      "/home/ollie/nkolduno/miniconda3/envs/pyfesom2/lib/python3.6/site-packages/dask/core.py:119: RuntimeWarning: invalid value encountered in true_divide\n",
      "  return func(*args2)\n"
     ]
    },
    {
     "name": "stdout",
     "output_type": "stream",
     "text": [
      "control\n"
     ]
    },
    {
     "name": "stderr",
     "output_type": "stream",
     "text": [
      "/home/ollie/nkolduno/miniconda3/envs/pyfesom2/lib/python3.6/site-packages/dask/core.py:119: RuntimeWarning: invalid value encountered in true_divide\n",
      "  return func(*args2)\n"
     ]
    },
    {
     "name": "stdout",
     "output_type": "stream",
     "text": [
      "opt1\n"
     ]
    }
   ],
   "source": [
    "hofm = OrderedDict()\n",
    "mask = pf.get_mask(mesh, region)\n",
    "data_reference = pf.get_data(reference_path, variable, reference_years, mesh, how=None, silent=True, compute=False)\n",
    "hofm_reference = pf.hovm_data(data_reference, mesh, mask = mask)\n",
    "for exp_path, exp_name  in zip(input_paths, input_names):\n",
    "    data = pf.get_data(exp_path, variable, years, mesh, how=None, compute=False, silent=True)\n",
    "    title = exp_name+\" - \"+reference_name\n",
    "    hofm[title] = {}\n",
    "    data_difference= pf.hovm_data(data, mesh, mask = mask) - hofm_reference.data\n",
    "    hofm[title]['data'] = data_difference\n",
    "    if (data_difference.max() == data_difference.min() == 0):\n",
    "        hofm[title]['nodiff'] = True\n",
    "    else:\n",
    "        hofm[title]['nodiff'] = False\n",
    "    del data\n",
    "    print(exp_name)"
   ]
  },
  {
   "cell_type": "code",
   "execution_count": 6,
   "metadata": {},
   "outputs": [],
   "source": [
    "def data_to_plot(hofm):\n",
    "    plot_data = []\n",
    "    plot_names = []\n",
    "    for key, value in hofm.items():\n",
    "        if value['nodiff'] is False:\n",
    "            plot_data.append(value['data'])\n",
    "            plot_names.append(key)\n",
    "                \n",
    "    return plot_data, plot_names"
   ]
  },
  {
   "cell_type": "code",
   "execution_count": 7,
   "metadata": {},
   "outputs": [],
   "source": [
    "plot_data, plot_names = data_to_plot(hofm)\n",
    "if not plot_data:\n",
    "    print('There is no difference between fields')\n",
    "    identical = True\n",
    "else:\n",
    "    identical = False\n",
    "\n",
    "if len(plot_data) == 1:\n",
    "    plot_data = plot_data[0]\n",
    "    plot_names = plot_names[0]"
   ]
  },
  {
   "cell_type": "code",
   "execution_count": 7,
   "metadata": {},
   "outputs": [
    {
     "ename": "NameError",
     "evalue": "name 'mesh' is not defined",
     "output_type": "error",
     "traceback": [
      "\u001b[0;31m---------------------------------------------------------------------------\u001b[0m",
      "\u001b[0;31mNameError\u001b[0m                                 Traceback (most recent call last)",
      "\u001b[0;32m<ipython-input-7-ea4c9b239dd8>\u001b[0m in \u001b[0;36m<module>\u001b[0;34m\u001b[0m\n\u001b[1;32m      1\u001b[0m \u001b[0mlevels\u001b[0m \u001b[0;34m=\u001b[0m \u001b[0mnp\u001b[0m\u001b[0;34m.\u001b[0m\u001b[0mlinspace\u001b[0m\u001b[0;34m(\u001b[0m\u001b[0mlevels\u001b[0m\u001b[0;34m[\u001b[0m\u001b[0;36m0\u001b[0m\u001b[0;34m]\u001b[0m\u001b[0;34m,\u001b[0m \u001b[0mlevels\u001b[0m\u001b[0;34m[\u001b[0m\u001b[0;36m1\u001b[0m\u001b[0;34m]\u001b[0m\u001b[0;34m,\u001b[0m \u001b[0mlevels\u001b[0m\u001b[0;34m[\u001b[0m\u001b[0;36m2\u001b[0m\u001b[0;34m]\u001b[0m\u001b[0;34m)\u001b[0m\u001b[0;34m\u001b[0m\u001b[0;34m\u001b[0m\u001b[0m\n\u001b[1;32m      2\u001b[0m \u001b[0mplt\u001b[0m\u001b[0;34m.\u001b[0m\u001b[0mfigure\u001b[0m\u001b[0;34m(\u001b[0m\u001b[0mfigsize\u001b[0m\u001b[0;34m=\u001b[0m\u001b[0;34m(\u001b[0m\u001b[0;36m10\u001b[0m\u001b[0;34m,\u001b[0m \u001b[0;36m5\u001b[0m\u001b[0;34m)\u001b[0m\u001b[0;34m)\u001b[0m\u001b[0;34m\u001b[0m\u001b[0;34m\u001b[0m\u001b[0m\n\u001b[0;32m----> 3\u001b[0;31m pf.plot_xyz(mesh, plot_data,\n\u001b[0m\u001b[1;32m      4\u001b[0m              levels = levels, maxdepth=maxdepth, cmap = cm.coolwarm, title=plot_names, )\n",
      "\u001b[0;31mNameError\u001b[0m: name 'mesh' is not defined"
     ]
    },
    {
     "data": {
      "text/plain": [
       "<Figure size 720x360 with 0 Axes>"
      ]
     },
     "metadata": {},
     "output_type": "display_data"
    }
   ],
   "source": [
    "levels = np.linspace(levels[0], levels[1], levels[2])\n",
    "plt.figure(figsize=(10, 5))\n",
    "pf.plot_xyz(mesh, plot_data,\n",
    "             levels = levels, maxdepth=maxdepth, cmap = cm.coolwarm, title=plot_names, )\n",
    "if ofile is not None:\n",
    "    plt.savefig(ofile)\n",
    "    os.system(f'convert {ofile} -trim {ofile}_trimmed.png')\n",
    "    os.system(f'mv {ofile}_trimmed.png {ofile}')"
   ]
  },
  {
   "cell_type": "code",
   "execution_count": null,
   "metadata": {},
   "outputs": [],
   "source": []
  },
  {
   "cell_type": "code",
   "execution_count": null,
   "metadata": {},
   "outputs": [],
   "source": []
  },
  {
   "cell_type": "code",
   "execution_count": null,
   "metadata": {},
   "outputs": [],
   "source": []
  },
  {
   "cell_type": "code",
   "execution_count": null,
   "metadata": {},
   "outputs": [],
   "source": []
  },
  {
   "cell_type": "code",
   "execution_count": null,
   "metadata": {},
   "outputs": [],
   "source": []
  },
  {
   "cell_type": "code",
   "execution_count": null,
   "metadata": {},
   "outputs": [],
   "source": []
  },
  {
   "cell_type": "code",
   "execution_count": null,
   "metadata": {},
   "outputs": [],
   "source": []
  },
  {
   "cell_type": "code",
   "execution_count": null,
   "metadata": {},
   "outputs": [],
   "source": []
  }
 ],
 "metadata": {
  "kernelspec": {
   "display_name": "Python 3",
   "language": "python",
   "name": "python3"
  },
  "language_info": {
   "codemirror_mode": {
    "name": "ipython",
    "version": 3
   },
   "file_extension": ".py",
   "mimetype": "text/x-python",
   "name": "python",
   "nbconvert_exporter": "python",
   "pygments_lexer": "ipython3",
   "version": "3.8.5"
  }
 },
 "nbformat": 4,
 "nbformat_minor": 4
}
