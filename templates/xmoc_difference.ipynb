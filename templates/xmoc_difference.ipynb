{
 "cells": [
  {
   "cell_type": "code",
   "execution_count": 1,
   "metadata": {},
   "outputs": [],
   "source": [
    "import pyfesom2 as pf\n",
    "import xarray as xr\n",
    "import os\n",
    "import pandas as pd\n",
    "from collections import OrderedDict\n",
    "from itertools import product\n",
    "import matplotlib.pylab as plt\n",
    "%matplotlib inline\n",
    "from matplotlib import cm\n",
    "import numpy as np"
   ]
  },
  {
   "cell_type": "code",
   "execution_count": 21,
   "metadata": {
    "tags": [
     "parameters"
    ]
   },
   "outputs": [],
   "source": [
    "# parameters cell\n",
    "meshpath = \"/Users/nkolduno/PYTHON/DATA/core2_meanz_mesh/\"\n",
    "abg = [50, 15, -90]\n",
    "\n",
    "input_paths = [\n",
    "    \"/Users/nkolduno/PYTHON/DATA/output_7_10\",\n",
    "]\n",
    "input_names = [ 'opt1']\n",
    "years = range(1978, 1986)\n",
    "\n",
    "reference_path = \"/Users/nkolduno/PYTHON/DATA/output_7_8/\"\n",
    "reference_name = 'control'\n",
    "reference_years = years\n",
    "\n",
    "figsize=(10, 5)\n",
    "region = \"Global Ocean\"\n",
    "levels = [-5, 5, 41]\n",
    "ofile = None"
   ]
  },
  {
   "cell_type": "code",
   "execution_count": 22,
   "metadata": {},
   "outputs": [],
   "source": [
    "if input_names is None:\n",
    "    input_names = []\n",
    "    for run in input_paths:\n",
    "        run = os.path.join(run, '')\n",
    "        input_names.append(run.split('/')[-2])"
   ]
  },
  {
   "cell_type": "code",
   "execution_count": 23,
   "metadata": {},
   "outputs": [
    {
     "name": "stdout",
     "output_type": "stream",
     "text": [
      "/Users/nkolduno/PYTHON/DATA/core2_meanz_mesh/pickle_mesh_py3_fesom2\n",
      "The usepickle == True)\n",
      "The pickle file for FESOM2 exists.\n",
      "The mesh will be loaded from /Users/nkolduno/PYTHON/DATA/core2_meanz_mesh/pickle_mesh_py3_fesom2\n"
     ]
    }
   ],
   "source": [
    "mesh = pf.load_mesh(meshpath, abg=abg, \n",
    "                    usepickle=True, usejoblib=False)"
   ]
  },
  {
   "cell_type": "code",
   "execution_count": 25,
   "metadata": {},
   "outputs": [
    {
     "name": "stdout",
     "output_type": "stream",
     "text": [
      "opt1\n"
     ]
    }
   ],
   "source": [
    "xmoc = OrderedDict()\n",
    "mask = pf.get_mask(mesh, region)\n",
    "\n",
    "data_reference = pf.get_data(reference_path, 'w', reference_years, mesh, how='mean', compute=True, silent=True)\n",
    "lats, xmoc_reference = pf.xmoc_data(mesh, data_reference, mask = mask)\n",
    "\n",
    "for exp_path, exp_name  in zip(input_paths, input_names):\n",
    "    data = pf.get_data(exp_path, 'w', years, mesh, how='mean', compute=True, silent=True)\n",
    "    title = exp_name+\" - \"+reference_name\n",
    "    xmoc[title] = {}\n",
    "    lats, xmoc_exp = pf.xmoc_data(mesh, data, mask = mask)\n",
    "    \n",
    "    data_difference = xmoc_exp.data - xmoc_reference.data\n",
    "    xmoc[title]['data'] = data_difference\n",
    "    xmoc[title]['lats'] = lats\n",
    "    if (data_difference.max() == data_difference.min() == 0):\n",
    "        xmoc[title]['nodiff'] = True\n",
    "    else:\n",
    "        xmoc[title]['nodiff'] = False\n",
    "    del data\n",
    "    print(exp_name)"
   ]
  },
  {
   "cell_type": "code",
   "execution_count": 26,
   "metadata": {},
   "outputs": [],
   "source": [
    "def data_to_plot(xmoc):\n",
    "    plot_data = []\n",
    "    plot_names = []\n",
    "    for key, value in xmoc.items():\n",
    "        if value['nodiff'] is False:\n",
    "            plot_data.append(value['data'])\n",
    "            plot_names.append(key)\n",
    "                \n",
    "    return plot_data, plot_names"
   ]
  },
  {
   "cell_type": "code",
   "execution_count": 27,
   "metadata": {},
   "outputs": [],
   "source": [
    "plot_data, plot_names = data_to_plot(xmoc)\n",
    "if not plot_data:\n",
    "    print('There is no difference between fields')\n",
    "    identical = True\n",
    "else:\n",
    "    identical = False\n",
    "\n",
    "if len(plot_data) == 1:\n",
    "    plot_data = plot_data[0]\n",
    "    plot_names = plot_names[0]"
   ]
  },
  {
   "cell_type": "code",
   "execution_count": 29,
   "metadata": {},
   "outputs": [
    {
     "data": {
      "image/png": "[encoded data removed]",
      "text/plain": [
       "<Figure size 720x216 with 2 Axes>"
      ]
     },
     "metadata": {
      "needs_background": "light"
     },
     "output_type": "display_data"
    }
   ],
   "source": [
    "plt.figure(figsize=figsize)\n",
    "pf.plot_xyz(mesh, plot_data, xvals=lats, maxdepth=7000, cmap=cm.seismic, levels = levels, title=plot_names,\n",
    "             facecolor='gray', ncols = columns)\n",
    "if ofile is not None:\n",
    "    plt.savefig(ofile)\n",
    "    os.system(f'convert {ofile} -trim {ofile}_trimmed.png')\n",
    "    os.system(f'mv {ofile}_trimmed.png {ofile}')"
   ]
  },
  {
   "cell_type": "code",
   "execution_count": null,
   "metadata": {},
   "outputs": [],
   "source": []
  },
  {
   "cell_type": "code",
   "execution_count": null,
   "metadata": {},
   "outputs": [],
   "source": []
  },
  {
   "cell_type": "code",
   "execution_count": null,
   "metadata": {},
   "outputs": [],
   "source": []
  },
  {
   "cell_type": "code",
   "execution_count": null,
   "metadata": {},
   "outputs": [],
   "source": []
  },
  {
   "cell_type": "code",
   "execution_count": null,
   "metadata": {},
   "outputs": [],
   "source": []
  },
  {
   "cell_type": "code",
   "execution_count": null,
   "metadata": {},
   "outputs": [],
   "source": []
  },
  {
   "cell_type": "code",
   "execution_count": null,
   "metadata": {},
   "outputs": [],
   "source": []
  },
  {
   "cell_type": "code",
   "execution_count": null,
   "metadata": {},
   "outputs": [],
   "source": []
  },
  {
   "cell_type": "code",
   "execution_count": null,
   "metadata": {},
   "outputs": [],
   "source": []
  },
  {
   "cell_type": "code",
   "execution_count": null,
   "metadata": {},
   "outputs": [],
   "source": []
  },
  {
   "cell_type": "code",
   "execution_count": null,
   "metadata": {},
   "outputs": [],
   "source": []
  },
  {
   "cell_type": "code",
   "execution_count": null,
   "metadata": {},
   "outputs": [],
   "source": []
  },
  {
   "cell_type": "code",
   "execution_count": null,
   "metadata": {},
   "outputs": [],
   "source": []
  },
  {
   "cell_type": "code",
   "execution_count": null,
   "metadata": {},
   "outputs": [],
   "source": []
  },
  {
   "cell_type": "code",
   "execution_count": null,
   "metadata": {},
   "outputs": [],
   "source": []
  },
  {
   "cell_type": "code",
   "execution_count": null,
   "metadata": {},
   "outputs": [],
   "source": []
  },
  {
   "cell_type": "code",
   "execution_count": null,
   "metadata": {},
   "outputs": [],
   "source": []
  },
  {
   "cell_type": "code",
   "execution_count": null,
   "metadata": {},
   "outputs": [],
   "source": []
  }
 ],
 "metadata": {
  "kernelspec": {
   "display_name": "Python 3",
   "language": "python",
   "name": "python3"
  },
  "language_info": {
   "codemirror_mode": {
    "name": "ipython",
    "version": 3
   },
   "file_extension": ".py",
   "mimetype": "text/x-python",
   "name": "python",
   "nbconvert_exporter": "python",
   "pygments_lexer": "ipython3",
   "version": "3.6.7"
  }
 },
 "nbformat": 4,
 "nbformat_minor": 2
}
