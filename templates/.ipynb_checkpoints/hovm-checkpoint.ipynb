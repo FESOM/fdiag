{
 "cells": [
  {
   "cell_type": "code",
   "execution_count": 1,
   "metadata": {},
   "outputs": [
    {
     "name": "stdout",
     "output_type": "stream",
     "text": [
      "osgeo is not installed, conversion to Geo formats like Geotiff (fesom2GeoFormat) will not work.\n"
     ]
    }
   ],
   "source": [
    "import pyfesom2 as pf\n",
    "import xarray as xr\n",
    "import os\n",
    "import pandas as pd\n",
    "from collections import OrderedDict\n",
    "from itertools import product\n",
    "import matplotlib.pylab as plt\n",
    "import numpy as np\n",
    "from matplotlib import cm\n",
    "%matplotlib inline"
   ]
  },
  {
   "cell_type": "code",
   "execution_count": 9,
   "metadata": {
    "tags": [
     "parameters"
    ]
   },
   "outputs": [],
   "source": [
    "# parameters cell\n",
    "meshpath = '/work/ollie/nkolduno/meshes/CORE2_fesom2/'\n",
    "abg = [50, 15, -90]\n",
    "variable = 'temp'\n",
    "input_paths = [\"/work/ollie/nkolduno/output_visc_control/\",\n",
    "               '/work/ollie/nkolduno/output_option_1/'\n",
    "               ]\n",
    "input_names = ['control', 'opt1']\n",
    "years = range(1948, 1958)\n",
    "figsize=(10, 5)\n",
    "levels = [-2, 3, 41]\n",
    "units = r'$^\\circ$C'\n",
    "ofile = None\n",
    "region = \"Eurasian basin\""
   ]
  },
  {
   "cell_type": "code",
   "execution_count": 3,
   "metadata": {},
   "outputs": [],
   "source": [
    "if input_names is None:\n",
    "    input_names = []\n",
    "    for run in input_paths:\n",
    "        run = os.path.join(run, '')\n",
    "        input_names.append(run.split('/')[-2])"
   ]
  },
  {
   "cell_type": "code",
   "execution_count": 4,
   "metadata": {},
   "outputs": [
    {
     "name": "stdout",
     "output_type": "stream",
     "text": [
      "/work/ollie/nkolduno/meshes/CORE2_fesom2/pickle_mesh_py3_fesom2\n",
      "The usepickle == True)\n",
      "The pickle file for FESOM2 exists.\n",
      "The mesh will be loaded from /work/ollie/nkolduno/meshes/CORE2_fesom2/pickle_mesh_py3_fesom2\n"
     ]
    }
   ],
   "source": [
    "mesh = pf.load_mesh(meshpath, abg=abg, \n",
    "                    usepickle=True, usejoblib=False)"
   ]
  },
  {
   "cell_type": "code",
   "execution_count": 5,
   "metadata": {},
   "outputs": [
    {
     "name": "stderr",
     "output_type": "stream",
     "text": [
      "/home/ollie/nkolduno/miniconda3/envs/pyfesom2/lib/python3.6/site-packages/dask/core.py:119: RuntimeWarning: invalid value encountered in true_divide\n",
      "  return func(*args2)\n"
     ]
    },
    {
     "name": "stdout",
     "output_type": "stream",
     "text": [
      "control\n"
     ]
    },
    {
     "name": "stderr",
     "output_type": "stream",
     "text": [
      "/home/ollie/nkolduno/miniconda3/envs/pyfesom2/lib/python3.6/site-packages/dask/core.py:119: RuntimeWarning: invalid value encountered in true_divide\n",
      "  return func(*args2)\n"
     ]
    },
    {
     "name": "stdout",
     "output_type": "stream",
     "text": [
      "opt1\n"
     ]
    }
   ],
   "source": [
    "hofm = OrderedDict()\n",
    "mask = pf.get_mask(mesh, region)\n",
    "for exp_path, exp_name  in zip(input_paths, input_names):\n",
    "    data = pf.get_data(exp_path, variable, years, mesh, how=None, compute=False, silent=True)\n",
    "    hofm[exp_name] = {}\n",
    "    hofm[exp_name]['data'] = pf.hovm_data(data, mesh, mask = mask)\n",
    "    del data\n",
    "    print(exp_name)"
   ]
  },
  {
   "cell_type": "code",
   "execution_count": 6,
   "metadata": {},
   "outputs": [],
   "source": [
    "plot_data = []\n",
    "plot_names = []\n",
    "for key, value in hofm.items():\n",
    "    plot_data.append(value['data'])\n",
    "    plot_names.append(key)\n",
    "if len(plot_data) == 1:\n",
    "    plot_data = plot_data[0]\n",
    "    plot_names = plot_names[0]"
   ]
  },
  {
   "cell_type": "code",
   "execution_count": 11,
   "metadata": {},
   "outputs": [],
   "source": [
    "levels = np.linspace(levels[0], levels[1], levels[2])"
   ]
  },
  {
   "cell_type": "code",
   "execution_count": 12,
   "metadata": {},
   "outputs": [
    {
     "data": {
      "text/plain": [
       "<Figure size 720x360 with 0 Axes>"
      ]
     },
     "metadata": {},
     "output_type": "display_data"
    },
    {
     "data": {
      "image/png": "[encoded data removed]",
      "text/plain": [
       "<Figure size 1152x288 with 4 Axes>"
      ]
     },
     "metadata": {
      "needs_background": "light"
     },
     "output_type": "display_data"
    }
   ],
   "source": [
    "plt.figure(figsize=(10, 5))\n",
    "pf.hofm_plot(mesh, plot_data,\n",
    "             levels = levels, cmap = cm.coolwarm, title=plot_names)"
   ]
  },
  {
   "cell_type": "code",
   "execution_count": null,
   "metadata": {},
   "outputs": [],
   "source": []
  },
  {
   "cell_type": "code",
   "execution_count": null,
   "metadata": {},
   "outputs": [],
   "source": []
  },
  {
   "cell_type": "code",
   "execution_count": null,
   "metadata": {},
   "outputs": [],
   "source": []
  },
  {
   "cell_type": "code",
   "execution_count": null,
   "metadata": {},
   "outputs": [],
   "source": []
  },
  {
   "cell_type": "code",
   "execution_count": null,
   "metadata": {},
   "outputs": [],
   "source": []
  }
 ],
 "metadata": {
  "kernelspec": {
   "display_name": "Python 3",
   "language": "python",
   "name": "python3"
  },
  "language_info": {
   "codemirror_mode": {
    "name": "ipython",
    "version": 3
   },
   "file_extension": ".py",
   "mimetype": "text/x-python",
   "name": "python",
   "nbconvert_exporter": "python",
   "pygments_lexer": "ipython3",
   "version": "3.6.7"
  }
 },
 "nbformat": 4,
 "nbformat_minor": 4
}
