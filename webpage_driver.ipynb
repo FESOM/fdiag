{
 "cells": [
  {
   "cell_type": "code",
   "execution_count": 178,
   "metadata": {},
   "outputs": [],
   "source": [
    "import argparse\n",
    "import glob\n",
    "import json\n",
    "import os\n",
    "import shutil\n",
    "\n",
    "import pkg_resources\n",
    "from jinja2 import Environment, FileSystemLoader\n",
    "import yaml"
   ]
  },
  {
   "cell_type": "code",
   "execution_count": 179,
   "metadata": {},
   "outputs": [],
   "source": [
    "templates_path = pkg_resources.resource_filename(__name__, f\"templates_html\")\n",
    "file_loader = FileSystemLoader(templates_path)\n",
    "env = Environment(loader=file_loader)"
   ]
  },
  {
   "cell_type": "code",
   "execution_count": 180,
   "metadata": {},
   "outputs": [],
   "source": [
    "experiment_paths = glob.glob(f\"./results/*\")\n",
    "experiment_paths.sort()\n",
    "\n",
    "experiment_names = []\n",
    "for experiment in experiment_paths:\n",
    "    experiment_names.append(os.path.basename(experiment))\n",
    "    \n",
    "cn = {}\n",
    "cn[\"title\"] = \"FESOM2 sanity checks\"\n",
    "cn[\"experiments\"] = {}\n",
    "\n",
    "for experiment_name, experiment_path in zip(experiment_names, experiment_paths):\n",
    "#     experiment_files = glob.glob(f\"{experiment_path}/*\")\n",
    "#     experiment_files.sort()\n",
    "#     experiment_last_file = experiment_files[-1]\n",
    "#     with open(experiment_last_file, \"r\") as read_file:\n",
    "#         test_results = json.load(read_file)\n",
    "\n",
    "    cn[\"experiments\"][experiment_name] = {}\n",
    "    \n",
    "    cn[\"experiments\"][experiment_name]['experiment_path'] = experiment_path\n",
    "    \n",
    "ofile = open(\"index.html\", \"w\")\n",
    "template = env.get_template(\"index.html\")\n",
    "output = template.render(cn)\n",
    "ofile.write(output)\n",
    "ofile.close()"
   ]
  },
  {
   "cell_type": "code",
   "execution_count": 181,
   "metadata": {},
   "outputs": [
    {
     "data": {
      "text/plain": [
       "'compare_two_CORE_ollie'"
      ]
     },
     "execution_count": 181,
     "metadata": {},
     "output_type": "execute_result"
    }
   ],
   "source": [
    "experiment_name"
   ]
  },
  {
   "cell_type": "code",
   "execution_count": 182,
   "metadata": {},
   "outputs": [],
   "source": [
    "cn = {}\n",
    "cn['analyses'] = {}\n",
    "analysis = 'difference'\n",
    "if analysis in settings.keys():\n",
    "    cn['analyses'][analysis] = {}\n",
    "    image_count = 0\n",
    "    for variable, variable_data in settings[analysis].items():\n",
    "        for depth in variable_data['depths']:\n",
    "            cn['analyses'][analysis][f'image_{image_count}'] = {}\n",
    "            cn['analyses'][analysis][f'image_{image_count}']['name'] = f\"{variable} at {depth}\"\n",
    "            cn['analyses'][analysis][f'image_{image_count}']['path'] = f\"./figures/{experiment_name}_{analysis}_{variable}_{depth}.png\"\n",
    "            cn['analyses'][analysis][f'image_{image_count}']['short_name'] = f\"{experiment_name}_{analysis}_{variable}_{depth}\"\n",
    "            image_count = image_count+1\n",
    "\n",
    "analysis = 'climatology'\n",
    "if analysis in settings.keys():\n",
    "    cn['analyses'][analysis] = {}\n",
    "    image_count = 0\n",
    "    for variable, variable_data in settings[analysis].items():\n",
    "        for depth in variable_data['depths']:\n",
    "            cn['analyses'][analysis][f'image_{image_count}'] = {}\n",
    "            cn['analyses'][analysis][f'image_{image_count}']['name'] = f\"{variable} at {depth}\"\n",
    "            cn['analyses'][analysis][f'image_{image_count}']['path'] = f\"./figures/{experiment_name}_{analysis}_{variable}_{depth}.png\"\n",
    "            cn['analyses'][analysis][f'image_{image_count}']['short_name'] = f\"{experiment_name}_{analysis}_{variable}_{depth}\"\n",
    "            image_count = image_count+1"
   ]
  },
  {
   "cell_type": "code",
   "execution_count": 183,
   "metadata": {},
   "outputs": [],
   "source": [
    "ice_analyses = ['icearea', \"icearea_march\", \n",
    "                \"icearea_september\", \"iceext\", \"iceext_march\", \"iceext_september\", 'icevol',\n",
    "               'icevol_march', \"icevol_september\"]"
   ]
  },
  {
   "cell_type": "code",
   "execution_count": 184,
   "metadata": {},
   "outputs": [
    {
     "data": {
      "text/plain": [
       "{'figsize': [10, 5], 'hemisphere': 'N'}"
      ]
     },
     "execution_count": 184,
     "metadata": {},
     "output_type": "execute_result"
    }
   ],
   "source": [
    "settings['ice_integrals']"
   ]
  },
  {
   "cell_type": "code",
   "execution_count": 185,
   "metadata": {},
   "outputs": [],
   "source": [
    "if 'ice_integrals' in settings.keys():\n",
    "    analysis = 'ice_integrals'\n",
    "    cn['analyses'][analysis] = {}\n",
    "    image_count = 0\n",
    "    hemisphere = settings[analysis]['hemisphere']\n",
    "    for variable in ice_analyses:\n",
    "        cn['analyses'][analysis][f'image_{image_count}'] = {}\n",
    "        cn['analyses'][analysis][f'image_{image_count}']['name'] = f\"{variable}\"\n",
    "        cn['analyses'][analysis][f'image_{image_count}']['path'] = f\"./figures/{experiment_name}_{analysis}_{hemisphere}_{variable}.png\"\n",
    "        cn['analyses'][analysis][f'image_{image_count}']['short_name'] = f\"{experiment_name}_{analysis}_{hemisphere}\"\n",
    "        image_count = image_count+1"
   ]
  },
  {
   "cell_type": "code",
   "execution_count": 186,
   "metadata": {},
   "outputs": [
    {
     "data": {
      "text/plain": [
       "{'Eurasian basin': {'temp': {'levels': [-0.1, 0.1, 41], 'maxdepth': 1000},\n",
       "  'salt': {'levels': [-0.1, 0.1, 41], 'maxdepth': 1000}},\n",
       " 'Amerasian basin': {'temp': {'levels': [-0.1, 0.1, 41], 'maxdepth': 1000},\n",
       "  'salt': {'levels': [-0.1, 0.1, 41], 'maxdepth': 1000}}}"
      ]
     },
     "execution_count": 186,
     "metadata": {},
     "output_type": "execute_result"
    }
   ],
   "source": [
    "settings['hovm_difference']"
   ]
  },
  {
   "cell_type": "code",
   "execution_count": 187,
   "metadata": {},
   "outputs": [],
   "source": [
    "if 'hovm_difference' in settings.keys():\n",
    "    analysis = 'hovm_difference'\n",
    "    cn['analyses'][analysis] = {}\n",
    "    image_count = 0\n",
    "    for basin, basin_data in settings[analysis].items():\n",
    "        basin_name_underscore = basin.replace(' ', '_')\n",
    "        for variable, variable_data in basin_data.items():\n",
    "            cn['analyses'][analysis][f'image_{image_count}'] = {}\n",
    "            cn['analyses'][analysis][f'image_{image_count}']['name'] = f\"{variable} for {basin}\"\n",
    "            cn['analyses'][analysis][f'image_{image_count}']['path'] = f\"./figures/{experiment_name}_{analysis}_{basin_name_underscore}_{variable}.png\"\n",
    "            cn['analyses'][analysis][f'image_{image_count}']['short_name'] = f\"{experiment_name}_{analysis}_{basin_name_underscore}_{variable}\"\n",
    "            image_count = image_count+1\n",
    "            \n",
    "if 'hovm_difference_clim' in settings.keys():\n",
    "    analysis = 'hovm_difference_clim'\n",
    "    cn['analyses'][analysis] = {}\n",
    "    image_count = 0\n",
    "    for basin, basin_data in settings[analysis].items():\n",
    "        basin_name_underscore = basin.replace(' ', '_')\n",
    "        for variable, variable_data in basin_data.items():\n",
    "            cn['analyses'][analysis][f'image_{image_count}'] = {}\n",
    "            cn['analyses'][analysis][f'image_{image_count}']['name'] = f\"{variable} for {basin}\"\n",
    "            cn['analyses'][analysis][f'image_{image_count}']['path'] = f\"./figures/{experiment_name}_{analysis}_{basin_name_underscore}_{variable}.png\"\n",
    "            cn['analyses'][analysis][f'image_{image_count}']['short_name'] = f\"{experiment_name}_{analysis}_{basin_name_underscore}_{variable}\"\n",
    "            image_count = image_count+1"
   ]
  },
  {
   "cell_type": "code",
   "execution_count": 188,
   "metadata": {},
   "outputs": [],
   "source": [
    "for experiment_name, experiment_path in zip(experiment_names, experiment_paths):\n",
    "    ofolder = f\"{experiment_path}/\"\n",
    "#     if not os.path.exists(ofolder):\n",
    "#         os.makedirs(ofolder)\n",
    "#     date = cn[\"experiments\"][experiment_name][\"date\"]\n",
    "    ofilename = f\"{experiment_name}.html\"\n",
    "    opath = os.path.join(ofolder, ofilename)\n",
    "    ofile = open(opath, \"w\")\n",
    "    template = env.get_template(\"experiment.html\")\n",
    "#     output = template.render(cn[\"experiments\"][experiment_name])\n",
    "    output = template.render(cn)\n",
    "    ofile.write(output)\n",
    "    ofile.close()"
   ]
  },
  {
   "cell_type": "code",
   "execution_count": 189,
   "metadata": {},
   "outputs": [],
   "source": [
    "workflow_name = \"compare_two_CORE_ollie\"\n",
    "with open(f'./{workflow_name}.yml') as file:\n",
    "    settings = yaml.load(file, Loader=yaml.FullLoader)\n",
    "# settings['years'] = list(range(settings['start_year'], settings['end_year']+1))"
   ]
  },
  {
   "cell_type": "code",
   "execution_count": 190,
   "metadata": {},
   "outputs": [
    {
     "data": {
      "text/plain": [
       "dict_keys(['meshpath', 'abg', 'climatology_path', 'climatology_year', 'columns', 'bbox', 'res', 'mapproj', 'figsize', 'start_year', 'end_year', 'difference', 'climatology', 'ice_integrals', 'hovm_difference', 'hovm_difference_clim'])"
      ]
     },
     "execution_count": 190,
     "metadata": {},
     "output_type": "execute_result"
    }
   ],
   "source": [
    "settings.keys()"
   ]
  },
  {
   "cell_type": "code",
   "execution_count": 161,
   "metadata": {},
   "outputs": [
    {
     "data": {
      "text/plain": [
       "{'analyses': {'difference': {'image_0': {'name': 'temp at 0',\n",
       "    'path': './figures/compare_two_CORE_ollie_difference_temp_0.png',\n",
       "    'short_name': 'compare_two_CORE_ollie_difference_temp_0'},\n",
       "   'image_1': {'name': 'temp at 100',\n",
       "    'path': './figures/compare_two_CORE_ollie_difference_temp_100.png',\n",
       "    'short_name': 'compare_two_CORE_ollie_difference_temp_100'},\n",
       "   'image_2': {'name': 'temp at 1000',\n",
       "    'path': './figures/compare_two_CORE_ollie_difference_temp_1000.png',\n",
       "    'short_name': 'compare_two_CORE_ollie_difference_temp_1000'},\n",
       "   'image_3': {'name': 'salt at 0',\n",
       "    'path': './figures/compare_two_CORE_ollie_difference_salt_0.png',\n",
       "    'short_name': 'compare_two_CORE_ollie_difference_salt_0'},\n",
       "   'image_4': {'name': 'salt at 100',\n",
       "    'path': './figures/compare_two_CORE_ollie_difference_salt_100.png',\n",
       "    'short_name': 'compare_two_CORE_ollie_difference_salt_100'},\n",
       "   'image_5': {'name': 'salt at 1000',\n",
       "    'path': './figures/compare_two_CORE_ollie_difference_salt_1000.png',\n",
       "    'short_name': 'compare_two_CORE_ollie_difference_salt_1000'}},\n",
       "  'climatology': {'image_0': {'name': 'temp at 0',\n",
       "    'path': './figures/compare_two_CORE_ollie_climatology_temp_0.png',\n",
       "    'short_name': 'compare_two_CORE_ollie_climatology_temp_0'},\n",
       "   'image_1': {'name': 'temp at 100',\n",
       "    'path': './figures/compare_two_CORE_ollie_climatology_temp_100.png',\n",
       "    'short_name': 'compare_two_CORE_ollie_climatology_temp_100'},\n",
       "   'image_2': {'name': 'temp at 1000',\n",
       "    'path': './figures/compare_two_CORE_ollie_climatology_temp_1000.png',\n",
       "    'short_name': 'compare_two_CORE_ollie_climatology_temp_1000'},\n",
       "   'image_3': {'name': 'salt at 0',\n",
       "    'path': './figures/compare_two_CORE_ollie_climatology_salt_0.png',\n",
       "    'short_name': 'compare_two_CORE_ollie_climatology_salt_0'},\n",
       "   'image_4': {'name': 'salt at 100',\n",
       "    'path': './figures/compare_two_CORE_ollie_climatology_salt_100.png',\n",
       "    'short_name': 'compare_two_CORE_ollie_climatology_salt_100'},\n",
       "   'image_5': {'name': 'salt at 1000',\n",
       "    'path': './figures/compare_two_CORE_ollie_climatology_salt_1000.png',\n",
       "    'short_name': 'compare_two_CORE_ollie_climatology_salt_1000'}},\n",
       "  'ice_integrals': {'image_0': {'name': 'icearea',\n",
       "    'path': './figures/compare_two_CORE_ollie_ice_integrals_N_icearea.png',\n",
       "    'short_name': 'compare_two_CORE_ollie_ice_integrals_N'},\n",
       "   'image_1': {'name': 'icearea_march',\n",
       "    'path': './figures/compare_two_CORE_ollie_ice_integrals_N_icearea_march.png',\n",
       "    'short_name': 'compare_two_CORE_ollie_ice_integrals_N'},\n",
       "   'image_2': {'name': 'icearea_september',\n",
       "    'path': './figures/compare_two_CORE_ollie_ice_integrals_N_icearea_september.png',\n",
       "    'short_name': 'compare_two_CORE_ollie_ice_integrals_N'},\n",
       "   'image_3': {'name': 'iceext',\n",
       "    'path': './figures/compare_two_CORE_ollie_ice_integrals_N_iceext.png',\n",
       "    'short_name': 'compare_two_CORE_ollie_ice_integrals_N'},\n",
       "   'image_4': {'name': 'iceext_march',\n",
       "    'path': './figures/compare_two_CORE_ollie_ice_integrals_N_iceext_march.png',\n",
       "    'short_name': 'compare_two_CORE_ollie_ice_integrals_N'},\n",
       "   'image_5': {'name': 'iceext_september',\n",
       "    'path': './figures/compare_two_CORE_ollie_ice_integrals_N_iceext_september.png',\n",
       "    'short_name': 'compare_two_CORE_ollie_ice_integrals_N'},\n",
       "   'image_6': {'name': 'icevol',\n",
       "    'path': './figures/compare_two_CORE_ollie_ice_integrals_N_icevol.png',\n",
       "    'short_name': 'compare_two_CORE_ollie_ice_integrals_N'},\n",
       "   'image_7': {'name': 'icevol_march',\n",
       "    'path': './figures/compare_two_CORE_ollie_ice_integrals_N_icevol_march.png',\n",
       "    'short_name': 'compare_two_CORE_ollie_ice_integrals_N'},\n",
       "   'image_8': {'name': 'icevol_september',\n",
       "    'path': './figures/compare_two_CORE_ollie_ice_integrals_N_icevol_september.png',\n",
       "    'short_name': 'compare_two_CORE_ollie_ice_integrals_N'}},\n",
       "  'hovm_difference': {'image_0': {'name': 'temp for Eurasian basin',\n",
       "    'path': './figures/compare_two_CORE_ollie_hovm_difference_Eurasian_basin_temp.png',\n",
       "    'short_name': 'compare_two_CORE_ollie_hovm_difference_Eurasian_basin_temp'},\n",
       "   'image_1': {'name': 'salt for Eurasian basin',\n",
       "    'path': './figures/compare_two_CORE_ollie_hovm_difference_Eurasian_basin_salt.png',\n",
       "    'short_name': 'compare_two_CORE_ollie_hovm_difference_Eurasian_basin_salt'},\n",
       "   'image_2': {'name': 'temp for Amerasian basin',\n",
       "    'path': './figures/compare_two_CORE_ollie_hovm_difference_Amerasian_basin_temp.png',\n",
       "    'short_name': 'compare_two_CORE_ollie_hovm_difference_Amerasian_basin_temp'},\n",
       "   'image_3': {'name': 'salt for Amerasian basin',\n",
       "    'path': './figures/compare_two_CORE_ollie_hovm_difference_Amerasian_basin_salt.png',\n",
       "    'short_name': 'compare_two_CORE_ollie_hovm_difference_Amerasian_basin_salt'}}}}"
      ]
     },
     "execution_count": 161,
     "metadata": {},
     "output_type": "execute_result"
    }
   ],
   "source": [
    "cn"
   ]
  },
  {
   "cell_type": "code",
   "execution_count": 45,
   "metadata": {},
   "outputs": [
    {
     "data": {
      "text/plain": [
       "{'meshpath': '/Users/nkolduno/PYTHON/DATA/core2_meanz_mesh/',\n",
       " 'abg': [50, 15, -90],\n",
       " 'climatology_path': '/Users/nkolduno/PYTHON/DATA/CLIM_on_mesh/core2_meanz/',\n",
       " 'climatology_year': 1948,\n",
       " 'columns': 2,\n",
       " 'bbox': [-180, 180, -80, 90],\n",
       " 'res': [360, 180],\n",
       " 'mapproj': 'pc',\n",
       " 'figsize': [24, 14],\n",
       " 'start_year': 1978,\n",
       " 'end_year': 1986,\n",
       " 'difference': {'temp': {'levels': [-1, 1, 41], 'depths': [0, 100, 1000]},\n",
       "  'salt': {'levels': [-0.5, 0.5, 41],\n",
       "   'depths': [0, 100, 1000],\n",
       "   'units': 'psu'}},\n",
       " 'climatology': {'temp': {'levels': [-5, 5, 41], 'depths': [0, 100, 1000]},\n",
       "  'salt': {'levels': [-1, 1, 41], 'depths': [0, 100, 1000], 'units': 'psu'}},\n",
       " 'ice_integrals': {'figsize': [10, 5], 'hemisphere': 'N'},\n",
       " 'hovm_difference': {'Eurasian basin': {'temp': {'levels': [-0.1, 0.1, 41],\n",
       "    'maxdepth': 1000},\n",
       "   'salt': {'levels': [-0.1, 0.1, 41], 'maxdepth': 1000}},\n",
       "  'Amerasian basin': {'temp': {'levels': [-0.1, 0.1, 41], 'maxdepth': 1000},\n",
       "   'salt': {'levels': [-0.1, 0.1, 41], 'maxdepth': 1000}}},\n",
       " 'years': [1978, 1979, 1980, 1981, 1982, 1983, 1984, 1985, 1986]}"
      ]
     },
     "execution_count": 45,
     "metadata": {},
     "output_type": "execute_result"
    }
   ],
   "source": [
    "settings"
   ]
  },
  {
   "cell_type": "code",
   "execution_count": null,
   "metadata": {},
   "outputs": [],
   "source": []
  }
 ],
 "metadata": {
  "kernelspec": {
   "display_name": "Python 3",
   "language": "python",
   "name": "python3"
  },
  "language_info": {
   "codemirror_mode": {
    "name": "ipython",
    "version": 3
   },
   "file_extension": ".py",
   "mimetype": "text/x-python",
   "name": "python",
   "nbconvert_exporter": "python",
   "pygments_lexer": "ipython3",
   "version": "3.8.5"
  }
 },
 "nbformat": 4,
 "nbformat_minor": 4
}
