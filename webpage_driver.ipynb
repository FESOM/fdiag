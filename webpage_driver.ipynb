{
 "cells": [
  {
   "cell_type": "code",
   "execution_count": 119,
   "metadata": {},
   "outputs": [],
   "source": [
    "import argparse\n",
    "import glob\n",
    "import json\n",
    "import os\n",
    "import shutil\n",
    "\n",
    "import pkg_resources\n",
    "from jinja2 import Environment, FileSystemLoader\n",
    "import yaml"
   ]
  },
  {
   "cell_type": "code",
   "execution_count": 120,
   "metadata": {},
   "outputs": [],
   "source": [
    "templates_path = pkg_resources.resource_filename(__name__, f\"templates_html\")\n",
    "file_loader = FileSystemLoader(templates_path)\n",
    "env = Environment(loader=file_loader)"
   ]
  },
  {
   "cell_type": "code",
   "execution_count": 121,
   "metadata": {},
   "outputs": [],
   "source": [
    "workflow_name = \"compare_two_CORE_ollie\"\n",
    "with open(f'./{workflow_name}.yml') as file:\n",
    "    settings = yaml.load(file, Loader=yaml.FullLoader)\n",
    "# settings['years'] = list(range(settings['start_year'], settings['end_year']+1))"
   ]
  },
  {
   "cell_type": "code",
   "execution_count": 122,
   "metadata": {},
   "outputs": [],
   "source": [
    "experiment_paths = glob.glob(f\"./results/*\")\n",
    "experiment_paths.sort()\n",
    "\n",
    "experiment_names = []\n",
    "for experiment in experiment_paths:\n",
    "    experiment_names.append(os.path.basename(experiment))\n",
    "    \n",
    "cn = {}\n",
    "cn[\"title\"] = \"FESOM2 sanity checks\"\n",
    "cn[\"experiments\"] = {}\n",
    "\n",
    "for experiment_name, experiment_path in zip(experiment_names, experiment_paths):\n",
    "#     experiment_files = glob.glob(f\"{experiment_path}/*\")\n",
    "#     experiment_files.sort()\n",
    "#     experiment_last_file = experiment_files[-1]\n",
    "#     with open(experiment_last_file, \"r\") as read_file:\n",
    "#         test_results = json.load(read_file)\n",
    "\n",
    "    cn[\"experiments\"][experiment_name] = {}\n",
    "    \n",
    "    cn[\"experiments\"][experiment_name]['experiment_path'] = experiment_path\n",
    "    \n",
    "ofile = open(\"index.html\", \"w\")\n",
    "template = env.get_template(\"index.html\")\n",
    "output = template.render(cn)\n",
    "ofile.write(output)\n",
    "ofile.close()"
   ]
  },
  {
   "cell_type": "code",
   "execution_count": 177,
   "metadata": {},
   "outputs": [],
   "source": [
    "cn = {}\n",
    "cn['analyses'] = {}\n",
    "analysis = 'difference'\n",
    "if analysis in settings.keys():\n",
    "    cn['analyses'][analysis] = {}\n",
    "    image_count = 0\n",
    "    for variable, variable_data in settings[analysis].items():\n",
    "        for depth in variable_data['depths']:\n",
    "            cn['analyses'][analysis][f'image_{image_count}'] = {}\n",
    "            cn['analyses'][analysis][f'image_{image_count}']['name'] = f\"{variable.capitalize()} at {depth} m\"\n",
    "            cn['analyses'][analysis][f'image_{image_count}']['path'] = f\"./figures/{experiment_name}_{analysis}_{variable}_{depth}.png\"\n",
    "            cn['analyses'][analysis][f'image_{image_count}']['path_nb'] = f\"./notebooks/{experiment_name}_{analysis}_{variable}_{depth}.ipynb\"\n",
    "            cn['analyses'][analysis][f'image_{image_count}']['short_name'] = f\"{experiment_name}_{analysis}_{variable}_{depth}\"\n",
    "            image_count = image_count+1\n",
    "\n",
    "analysis = 'climatology'\n",
    "if analysis in settings.keys():\n",
    "    cn['analyses'][analysis] = {}\n",
    "    image_count = 0\n",
    "    for variable, variable_data in settings[analysis].items():\n",
    "        for depth in variable_data['depths']:\n",
    "            cn['analyses'][analysis][f'image_{image_count}'] = {}\n",
    "            cn['analyses'][analysis][f'image_{image_count}']['name'] = f\"{variable.capitalize()} at {depth}\"\n",
    "            cn['analyses'][analysis][f'image_{image_count}']['path'] = f\"./figures/{experiment_name}_{analysis}_{variable}_{depth}.png\"\n",
    "            cn['analyses'][analysis][f'image_{image_count}']['path_nb'] = f\"./notebooks/{experiment_name}_{analysis}_{variable}_{depth}.ipynb\"\n",
    "            cn['analyses'][analysis][f'image_{image_count}']['short_name'] = f\"{experiment_name}_{analysis}_{variable}_{depth}\"\n",
    "            image_count = image_count+1"
   ]
  },
  {
   "cell_type": "code",
   "execution_count": 178,
   "metadata": {},
   "outputs": [],
   "source": [
    "ice_analyses = ['icearea', \"icearea_march\", \n",
    "                \"icearea_september\", \"iceext\", \"iceext_march\", \"iceext_september\", 'icevol',\n",
    "               'icevol_march', \"icevol_september\"]"
   ]
  },
  {
   "cell_type": "code",
   "execution_count": 165,
   "metadata": {},
   "outputs": [
    {
     "data": {
      "text/plain": [
       "{'figsize': [10, 5], 'hemisphere': 'N'}"
      ]
     },
     "execution_count": 165,
     "metadata": {},
     "output_type": "execute_result"
    }
   ],
   "source": [
    "settings['ice_integrals']"
   ]
  },
  {
   "cell_type": "code",
   "execution_count": 182,
   "metadata": {},
   "outputs": [],
   "source": [
    "if 'ice_integrals' in settings.keys():\n",
    "    analysis = 'ice_integrals'\n",
    "    cn['analyses'][analysis] = {}\n",
    "    image_count = 0\n",
    "    hemisphere = settings[analysis]['hemisphere']\n",
    "    for variable in ice_analyses:\n",
    "        cn['analyses'][analysis][f'image_{image_count}'] = {}\n",
    "        cn['analyses'][analysis][f'image_{image_count}']['name'] = f\"{variable}\"\n",
    "        cn['analyses'][analysis][f'image_{image_count}']['path'] = f\"./figures/{experiment_name}_{analysis}_{hemisphere}_{variable}.png\"\n",
    "        cn['analyses'][analysis][f'image_{image_count}']['path_nb'] = f\"./notebooks/{experiment_name}_{analysis}_{hemisphere}_{variable}.ipynb\"\n",
    "        cn['analyses'][analysis][f'image_{image_count}']['short_name'] = f\"{experiment_name}_{analysis}_{hemisphere}\"\n",
    "        image_count = image_count+1"
   ]
  },
  {
   "cell_type": "code",
   "execution_count": 183,
   "metadata": {},
   "outputs": [],
   "source": [
    "if 'hovm_difference' in settings.keys():\n",
    "    analysis = 'hovm_difference'\n",
    "    cn['analyses'][analysis] = {}\n",
    "    image_count = 0\n",
    "    for basin, basin_data in settings[analysis].items():\n",
    "        basin_name_underscore = basin.replace(' ', '_')\n",
    "        for variable, variable_data in basin_data.items():\n",
    "            cn['analyses'][analysis][f'image_{image_count}'] = {}\n",
    "            cn['analyses'][analysis][f'image_{image_count}']['name'] = f\"{variable} for {basin}\"\n",
    "            cn['analyses'][analysis][f'image_{image_count}']['path'] = f\"./figures/{experiment_name}_{analysis}_{basin_name_underscore}_{variable}.png\"\n",
    "            cn['analyses'][analysis][f'image_{image_count}']['short_name'] = f\"{experiment_name}_{analysis}_{basin_name_underscore}_{variable}\"\n",
    "            image_count = image_count+1\n",
    "            \n",
    "if 'hovm_difference_clim' in settings.keys():\n",
    "    analysis = 'hovm_difference_clim'\n",
    "    cn['analyses'][analysis] = {}\n",
    "    image_count = 0\n",
    "    for basin, basin_data in settings[analysis].items():\n",
    "        basin_name_underscore = basin.replace(' ', '_')\n",
    "        for variable, variable_data in basin_data.items():\n",
    "            cn['analyses'][analysis][f'image_{image_count}'] = {}\n",
    "            cn['analyses'][analysis][f'image_{image_count}']['name'] = f\"{variable} for {basin}\"\n",
    "            cn['analyses'][analysis][f'image_{image_count}']['path'] = f\"./figures/{experiment_name}_{analysis}_{basin_name_underscore}_{variable}.png\"\n",
    "            cn['analyses'][analysis][f'image_{image_count}']['short_name'] = f\"{experiment_name}_{analysis}_{basin_name_underscore}_{variable}\"\n",
    "            image_count = image_count+1"
   ]
  },
  {
   "cell_type": "code",
   "execution_count": 184,
   "metadata": {},
   "outputs": [
    {
     "name": "stdout",
     "output_type": "stream",
     "text": [
      "hi\n",
      "\n",
      "./figures/compare_two_CORE_ollie_oce_integrals_Global_Ocean_temp_0_100.png\n",
      "./figures/compare_two_CORE_ollie_oce_integrals_Global_Ocean_temp_0_700.png\n",
      "\n",
      "./figures/compare_two_CORE_ollie_oce_integrals_Global_Ocean_salt_0_100.png\n",
      "./figures/compare_two_CORE_ollie_oce_integrals_Global_Ocean_salt_0_700.png\n",
      "\n",
      "./figures/compare_two_CORE_ollie_oce_integrals_Eurasian_basin_temp_0_100.png\n",
      "./figures/compare_two_CORE_ollie_oce_integrals_Eurasian_basin_temp_0_700.png\n",
      "\n",
      "./figures/compare_two_CORE_ollie_oce_integrals_Eurasian_basin_salt_0_100.png\n",
      "./figures/compare_two_CORE_ollie_oce_integrals_Eurasian_basin_salt_0_700.png\n"
     ]
    }
   ],
   "source": [
    "if 'oce_integrals' in settings.keys():\n",
    "    print('hi')\n",
    "    analysis = 'oce_integrals'\n",
    "    cn['analyses'][analysis] = {}\n",
    "    image_count = 0\n",
    "    for basin, basin_data in settings[analysis].items():\n",
    "        basin_name_underscore = basin.replace(' ', '_')\n",
    "        for variable, variable_data in basin_data.items():\n",
    "            print()\n",
    "            for uplow in variable_data['uplows']:\n",
    "                cn['analyses'][analysis][f'image_{image_count}'] = {}\n",
    "                cn['analyses'][analysis][f'image_{image_count}']['name'] = f\"{variable} for {basin}, {uplow[0]}-{uplow[1]}m.\"\n",
    "                cn['analyses'][analysis][f'image_{image_count}']['path'] = f\"./figures/{experiment_name}_{analysis}_{basin_name_underscore}_{variable}_{uplow[0]}_{uplow[1]}.png\"\n",
    "                print(cn['analyses'][analysis][f'image_{image_count}']['path'])\n",
    "                cn['analyses'][analysis][f'image_{image_count}']['short_name'] = f\"{experiment_name}_{analysis}_{basin_name_underscore}_{variable}_{uplow[0]}_{uplow[1]}\"\n",
    "                image_count = image_count+1"
   ]
  },
  {
   "cell_type": "code",
   "execution_count": 185,
   "metadata": {},
   "outputs": [
    {
     "name": "stdout",
     "output_type": "stream",
     "text": [
      "./figures/compare_two_CORE_ollie_xmoc_Global_Ocean.png\n",
      "./figures/compare_two_CORE_ollie_xmoc_Atlantic_MOC.png\n"
     ]
    }
   ],
   "source": [
    "if 'xmoc' in settings.keys():\n",
    "    analysis = 'xmoc'\n",
    "    cn['analyses'][analysis] = {}\n",
    "    image_count = 0\n",
    "    for basin, basin_data in settings[analysis].items():\n",
    "        basin_name_underscore = basin.replace(' ', '_')\n",
    "#         for variable, variable_data in basin_data.items():\n",
    "#             print()\n",
    "#             for uplow in variable_data['uplows']:\n",
    "        cn['analyses'][analysis][f'image_{image_count}'] = {}\n",
    "        cn['analyses'][analysis][f'image_{image_count}']['name'] = f\"MOC for {basin}.\"\n",
    "        cn['analyses'][analysis][f'image_{image_count}']['path'] = f\"./figures/{experiment_name}_{analysis}_{basin_name_underscore}.png\"\n",
    "        print(cn['analyses'][analysis][f'image_{image_count}']['path'])\n",
    "        cn['analyses'][analysis][f'image_{image_count}']['short_name'] = f\"{experiment_name}_{analysis}_{basin_name_underscore}\"\n",
    "        image_count = image_count+1"
   ]
  },
  {
   "cell_type": "code",
   "execution_count": 186,
   "metadata": {},
   "outputs": [
    {
     "name": "stdout",
     "output_type": "stream",
     "text": [
      "./figures/compare_two_CORE_ollie_xmoc_difference_Global_Ocean.png\n",
      "./figures/compare_two_CORE_ollie_xmoc_difference_Atlantic_MOC.png\n"
     ]
    }
   ],
   "source": [
    "if 'xmoc_difference' in settings.keys():\n",
    "    analysis = 'xmoc_difference'\n",
    "    cn['analyses'][analysis] = {}\n",
    "    image_count = 0\n",
    "    for basin, basin_data in settings[analysis].items():\n",
    "        basin_name_underscore = basin.replace(' ', '_')\n",
    "#         for variable, variable_data in basin_data.items():\n",
    "#             print()\n",
    "#             for uplow in variable_data['uplows']:\n",
    "        cn['analyses'][analysis][f'image_{image_count}'] = {}\n",
    "        cn['analyses'][analysis][f'image_{image_count}']['name'] = f\"MOC difference for {basin}.\"\n",
    "        cn['analyses'][analysis][f'image_{image_count}']['path'] = f\"./figures/{experiment_name}_{analysis}_{basin_name_underscore}.png\"\n",
    "        print(cn['analyses'][analysis][f'image_{image_count}']['path'])\n",
    "        cn['analyses'][analysis][f'image_{image_count}']['short_name'] = f\"{experiment_name}_{analysis}_{basin_name_underscore}\"\n",
    "        image_count = image_count+1"
   ]
  },
  {
   "cell_type": "code",
   "execution_count": 187,
   "metadata": {},
   "outputs": [
    {
     "name": "stdout",
     "output_type": "stream",
     "text": [
      "./figures/compare_two_CORE_ollie_amoc_timeseries_26.5.png\n",
      "./figures/compare_two_CORE_ollie_amoc_timeseries_45.png\n"
     ]
    }
   ],
   "source": [
    "if 'amoc_timeseries' in settings.keys():\n",
    "    analysis = 'amoc_timeseries'\n",
    "    cn['analyses'][analysis] = {}\n",
    "    image_count = 0\n",
    "    for latitude in settings[analysis]['latitudes']:\n",
    "#         basin_name_underscore = basin.replace(' ', '_')\n",
    "#         for variable, variable_data in basin_data.items():\n",
    "#             print()\n",
    "#             for uplow in variable_data['uplows']:\n",
    "        cn['analyses'][analysis][f'image_{image_count}'] = {}\n",
    "        cn['analyses'][analysis][f'image_{image_count}']['name'] = f\"AMOC at {latitude}.\"\n",
    "        cn['analyses'][analysis][f'image_{image_count}']['path'] = f\"./figures/{experiment_name}_{analysis}_{latitude}.png\"\n",
    "        print(cn['analyses'][analysis][f'image_{image_count}']['path'])\n",
    "        cn['analyses'][analysis][f'image_{image_count}']['short_name'] = f\"{experiment_name}_{analysis}_{latitude}\"\n",
    "        image_count = image_count+1"
   ]
  },
  {
   "cell_type": "code",
   "execution_count": 188,
   "metadata": {},
   "outputs": [
    {
     "name": "stdout",
     "output_type": "stream",
     "text": [
      "./figures/compare_two_CORE_ollie_vertical_profile_temp_difference.png\n",
      "./figures/compare_two_CORE_ollie_vertical_profile_temp_absolute.png\n",
      "./figures/compare_two_CORE_ollie_vertical_profile_salt_difference.png\n",
      "./figures/compare_two_CORE_ollie_vertical_profile_salt_absolute.png\n"
     ]
    }
   ],
   "source": [
    "if 'vertical_profile' in settings.keys():\n",
    "    analysis = 'vertical_profile'\n",
    "    cn['analyses'][analysis] = {}\n",
    "    image_count = 0\n",
    "    for variable in settings[analysis]:\n",
    "#         basin_name_underscore = basin.replace(' ', '_')\n",
    "#         for variable, variable_data in basin_data.items():\n",
    "#             print()\n",
    "#             for uplow in variable_data['uplows']:\n",
    "        cn['analyses'][analysis][f'image_{image_count}'] = {}\n",
    "        cn['analyses'][analysis][f'image_{image_count}']['name'] = f\"{variable} difference.\"\n",
    "        cn['analyses'][analysis][f'image_{image_count}']['path'] = f\"./figures/{experiment_name}_{analysis}_{variable}_difference.png\"\n",
    "        print(cn['analyses'][analysis][f'image_{image_count}']['path'])\n",
    "        cn['analyses'][analysis][f'image_{image_count}']['short_name'] = f\"{experiment_name}_{analysis}_{variable}_difference\"\n",
    "        image_count = image_count+1\n",
    "        \n",
    "        cn['analyses'][analysis][f'image_{image_count}'] = {}\n",
    "        cn['analyses'][analysis][f'image_{image_count}']['name'] = f\"{variable} absolute values.\"\n",
    "        cn['analyses'][analysis][f'image_{image_count}']['path'] = f\"./figures/{experiment_name}_{analysis}_{variable}_absolute.png\"\n",
    "        print(cn['analyses'][analysis][f'image_{image_count}']['path'])\n",
    "        cn['analyses'][analysis][f'image_{image_count}']['short_name'] = f\"{experiment_name}_{analysis}_{variable}_absolute\"\n",
    "        image_count = image_count+1"
   ]
  },
  {
   "cell_type": "code",
   "execution_count": 189,
   "metadata": {},
   "outputs": [],
   "source": [
    "cn['general'] = {}\n",
    "cn['general']['name'] = experiment_name"
   ]
  },
  {
   "cell_type": "code",
   "execution_count": 196,
   "metadata": {},
   "outputs": [],
   "source": [
    "for experiment_name, experiment_path in zip(experiment_names, experiment_paths):\n",
    "    ofolder = f\"{experiment_path}/\"\n",
    "#     if not os.path.exists(ofolder):\n",
    "#         os.makedirs(ofolder)\n",
    "#     date = cn[\"experiments\"][experiment_name][\"date\"]\n",
    "    ofilename = f\"{experiment_name}.html\"\n",
    "    opath = os.path.join(ofolder, ofilename)\n",
    "    ofile = open(opath, \"w\")\n",
    "    template = env.get_template(\"experiment.html\")\n",
    "#     output = template.render(cn[\"experiments\"][experiment_name])\n",
    "    output = template.render(cn)\n",
    "    ofile.write(output)\n",
    "    ofile.close()"
   ]
  },
  {
   "cell_type": "code",
   "execution_count": 105,
   "metadata": {},
   "outputs": [
    {
     "data": {
      "text/plain": [
       "dict_keys(['analyses', 'general'])"
      ]
     },
     "execution_count": 105,
     "metadata": {},
     "output_type": "execute_result"
    }
   ],
   "source": [
    "cn.keys()"
   ]
  },
  {
   "cell_type": "code",
   "execution_count": null,
   "metadata": {},
   "outputs": [],
   "source": []
  },
  {
   "cell_type": "code",
   "execution_count": null,
   "metadata": {},
   "outputs": [],
   "source": []
  }
 ],
 "metadata": {
  "kernelspec": {
   "display_name": "Python 3",
   "language": "python",
   "name": "python3"
  },
  "language_info": {
   "codemirror_mode": {
    "name": "ipython",
    "version": 3
   },
   "file_extension": ".py",
   "mimetype": "text/x-python",
   "name": "python",
   "nbconvert_exporter": "python",
   "pygments_lexer": "ipython3",
   "version": "3.8.5"
  }
 },
 "nbformat": 4,
 "nbformat_minor": 4
}
