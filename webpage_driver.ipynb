{
 "cells": [
  {
   "cell_type": "code",
   "execution_count": 6,
   "metadata": {},
   "outputs": [],
   "source": [
    "import argparse\n",
    "import glob\n",
    "import json\n",
    "import os\n",
    "import shutil\n",
    "\n",
    "import pkg_resources\n",
    "from jinja2 import Environment, FileSystemLoader\n",
    "import yaml"
   ]
  },
  {
   "cell_type": "code",
   "execution_count": 7,
   "metadata": {},
   "outputs": [],
   "source": [
    "templates_path = pkg_resources.resource_filename(__name__, f\"templates_html\")\n",
    "file_loader = FileSystemLoader(templates_path)\n",
    "env = Environment(loader=file_loader)"
   ]
  },
  {
   "cell_type": "code",
   "execution_count": 13,
   "metadata": {},
   "outputs": [],
   "source": [
    "workflow_name = \"compare_two_CORE_ollie\"\n",
    "with open(f'./{workflow_name}.yml') as file:\n",
    "    settings = yaml.load(file, Loader=yaml.FullLoader)\n",
    "# settings['years'] = list(range(settings['start_year'], settings['end_year']+1))"
   ]
  },
  {
   "cell_type": "code",
   "execution_count": 14,
   "metadata": {},
   "outputs": [],
   "source": [
    "experiment_paths = glob.glob(f\"./results/*\")\n",
    "experiment_paths.sort()\n",
    "\n",
    "experiment_names = []\n",
    "for experiment in experiment_paths:\n",
    "    experiment_names.append(os.path.basename(experiment))\n",
    "    \n",
    "cn = {}\n",
    "cn[\"title\"] = \"FESOM2 sanity checks\"\n",
    "cn[\"experiments\"] = {}\n",
    "\n",
    "for experiment_name, experiment_path in zip(experiment_names, experiment_paths):\n",
    "#     experiment_files = glob.glob(f\"{experiment_path}/*\")\n",
    "#     experiment_files.sort()\n",
    "#     experiment_last_file = experiment_files[-1]\n",
    "#     with open(experiment_last_file, \"r\") as read_file:\n",
    "#         test_results = json.load(read_file)\n",
    "\n",
    "    cn[\"experiments\"][experiment_name] = {}\n",
    "    \n",
    "    cn[\"experiments\"][experiment_name]['experiment_path'] = experiment_path\n",
    "    \n",
    "ofile = open(\"index.html\", \"w\")\n",
    "template = env.get_template(\"index.html\")\n",
    "output = template.render(cn)\n",
    "ofile.write(output)\n",
    "ofile.close()"
   ]
  },
  {
   "cell_type": "code",
   "execution_count": 15,
   "metadata": {},
   "outputs": [
    {
     "data": {
      "text/plain": [
       "'compare_two_CORE_ollie'"
      ]
     },
     "execution_count": 15,
     "metadata": {},
     "output_type": "execute_result"
    }
   ],
   "source": [
    "experiment_name"
   ]
  },
  {
   "cell_type": "code",
   "execution_count": 16,
   "metadata": {},
   "outputs": [],
   "source": [
    "cn = {}\n",
    "cn['analyses'] = {}\n",
    "analysis = 'difference'\n",
    "if analysis in settings.keys():\n",
    "    cn['analyses'][analysis] = {}\n",
    "    image_count = 0\n",
    "    for variable, variable_data in settings[analysis].items():\n",
    "        for depth in variable_data['depths']:\n",
    "            cn['analyses'][analysis][f'image_{image_count}'] = {}\n",
    "            cn['analyses'][analysis][f'image_{image_count}']['name'] = f\"{variable} at {depth}\"\n",
    "            cn['analyses'][analysis][f'image_{image_count}']['path'] = f\"./figures/{experiment_name}_{analysis}_{variable}_{depth}.png\"\n",
    "            cn['analyses'][analysis][f'image_{image_count}']['short_name'] = f\"{experiment_name}_{analysis}_{variable}_{depth}\"\n",
    "            image_count = image_count+1\n",
    "\n",
    "analysis = 'climatology'\n",
    "if analysis in settings.keys():\n",
    "    cn['analyses'][analysis] = {}\n",
    "    image_count = 0\n",
    "    for variable, variable_data in settings[analysis].items():\n",
    "        for depth in variable_data['depths']:\n",
    "            cn['analyses'][analysis][f'image_{image_count}'] = {}\n",
    "            cn['analyses'][analysis][f'image_{image_count}']['name'] = f\"{variable} at {depth}\"\n",
    "            cn['analyses'][analysis][f'image_{image_count}']['path'] = f\"./figures/{experiment_name}_{analysis}_{variable}_{depth}.png\"\n",
    "            cn['analyses'][analysis][f'image_{image_count}']['short_name'] = f\"{experiment_name}_{analysis}_{variable}_{depth}\"\n",
    "            image_count = image_count+1"
   ]
  },
  {
   "cell_type": "code",
   "execution_count": 17,
   "metadata": {},
   "outputs": [],
   "source": [
    "ice_analyses = ['icearea', \"icearea_march\", \n",
    "                \"icearea_september\", \"iceext\", \"iceext_march\", \"iceext_september\", 'icevol',\n",
    "               'icevol_march', \"icevol_september\"]"
   ]
  },
  {
   "cell_type": "code",
   "execution_count": 18,
   "metadata": {},
   "outputs": [
    {
     "data": {
      "text/plain": [
       "{'figsize': [10, 5], 'hemisphere': 'N'}"
      ]
     },
     "execution_count": 18,
     "metadata": {},
     "output_type": "execute_result"
    }
   ],
   "source": [
    "settings['ice_integrals']"
   ]
  },
  {
   "cell_type": "code",
   "execution_count": 19,
   "metadata": {},
   "outputs": [],
   "source": [
    "if 'ice_integrals' in settings.keys():\n",
    "    analysis = 'ice_integrals'\n",
    "    cn['analyses'][analysis] = {}\n",
    "    image_count = 0\n",
    "    hemisphere = settings[analysis]['hemisphere']\n",
    "    for variable in ice_analyses:\n",
    "        cn['analyses'][analysis][f'image_{image_count}'] = {}\n",
    "        cn['analyses'][analysis][f'image_{image_count}']['name'] = f\"{variable}\"\n",
    "        cn['analyses'][analysis][f'image_{image_count}']['path'] = f\"./figures/{experiment_name}_{analysis}_{hemisphere}_{variable}.png\"\n",
    "        cn['analyses'][analysis][f'image_{image_count}']['short_name'] = f\"{experiment_name}_{analysis}_{hemisphere}\"\n",
    "        image_count = image_count+1"
   ]
  },
  {
   "cell_type": "code",
   "execution_count": 20,
   "metadata": {},
   "outputs": [
    {
     "data": {
      "text/plain": [
       "{'Eurasian basin': {'temp': {'levels': [-0.1, 0.1, 41], 'maxdepth': 1000},\n",
       "  'salt': {'levels': [-0.1, 0.1, 41], 'maxdepth': 1000}},\n",
       " 'Amerasian basin': {'temp': {'levels': [-0.1, 0.1, 41], 'maxdepth': 1000},\n",
       "  'salt': {'levels': [-0.1, 0.1, 41], 'maxdepth': 1000}}}"
      ]
     },
     "execution_count": 20,
     "metadata": {},
     "output_type": "execute_result"
    }
   ],
   "source": [
    "settings['hovm_difference']"
   ]
  },
  {
   "cell_type": "code",
   "execution_count": 21,
   "metadata": {},
   "outputs": [],
   "source": [
    "if 'hovm_difference' in settings.keys():\n",
    "    analysis = 'hovm_difference'\n",
    "    cn['analyses'][analysis] = {}\n",
    "    image_count = 0\n",
    "    for basin, basin_data in settings[analysis].items():\n",
    "        basin_name_underscore = basin.replace(' ', '_')\n",
    "        for variable, variable_data in basin_data.items():\n",
    "            cn['analyses'][analysis][f'image_{image_count}'] = {}\n",
    "            cn['analyses'][analysis][f'image_{image_count}']['name'] = f\"{variable} for {basin}\"\n",
    "            cn['analyses'][analysis][f'image_{image_count}']['path'] = f\"./figures/{experiment_name}_{analysis}_{basin_name_underscore}_{variable}.png\"\n",
    "            cn['analyses'][analysis][f'image_{image_count}']['short_name'] = f\"{experiment_name}_{analysis}_{basin_name_underscore}_{variable}\"\n",
    "            image_count = image_count+1\n",
    "            \n",
    "if 'hovm_difference_clim' in settings.keys():\n",
    "    analysis = 'hovm_difference_clim'\n",
    "    cn['analyses'][analysis] = {}\n",
    "    image_count = 0\n",
    "    for basin, basin_data in settings[analysis].items():\n",
    "        basin_name_underscore = basin.replace(' ', '_')\n",
    "        for variable, variable_data in basin_data.items():\n",
    "            cn['analyses'][analysis][f'image_{image_count}'] = {}\n",
    "            cn['analyses'][analysis][f'image_{image_count}']['name'] = f\"{variable} for {basin}\"\n",
    "            cn['analyses'][analysis][f'image_{image_count}']['path'] = f\"./figures/{experiment_name}_{analysis}_{basin_name_underscore}_{variable}.png\"\n",
    "            cn['analyses'][analysis][f'image_{image_count}']['short_name'] = f\"{experiment_name}_{analysis}_{basin_name_underscore}_{variable}\"\n",
    "            image_count = image_count+1"
   ]
  },
  {
   "cell_type": "code",
   "execution_count": 22,
   "metadata": {},
   "outputs": [
    {
     "name": "stdout",
     "output_type": "stream",
     "text": [
      "hi\n",
      "\n",
      "./figures/compare_two_CORE_ollie_oce_integrals_Global_Ocean_temp_0_100.png\n",
      "./figures/compare_two_CORE_ollie_oce_integrals_Global_Ocean_temp_0_700.png\n",
      "\n",
      "./figures/compare_two_CORE_ollie_oce_integrals_Global_Ocean_salt_0_100.png\n",
      "./figures/compare_two_CORE_ollie_oce_integrals_Global_Ocean_salt_0_700.png\n",
      "\n",
      "./figures/compare_two_CORE_ollie_oce_integrals_Eurasian_basin_temp_0_100.png\n",
      "./figures/compare_two_CORE_ollie_oce_integrals_Eurasian_basin_temp_0_700.png\n",
      "\n",
      "./figures/compare_two_CORE_ollie_oce_integrals_Eurasian_basin_salt_0_100.png\n",
      "./figures/compare_two_CORE_ollie_oce_integrals_Eurasian_basin_salt_0_700.png\n"
     ]
    }
   ],
   "source": [
    "if 'oce_integrals' in settings.keys():\n",
    "    print('hi')\n",
    "    analysis = 'oce_integrals'\n",
    "    cn['analyses'][analysis] = {}\n",
    "    image_count = 0\n",
    "    for basin, basin_data in settings[analysis].items():\n",
    "        basin_name_underscore = basin.replace(' ', '_')\n",
    "        for variable, variable_data in basin_data.items():\n",
    "            print()\n",
    "            for uplow in variable_data['uplows']:\n",
    "                cn['analyses'][analysis][f'image_{image_count}'] = {}\n",
    "                cn['analyses'][analysis][f'image_{image_count}']['name'] = f\"{variable} for {basin}, {uplow[0]}-{uplow[1]}m.\"\n",
    "                cn['analyses'][analysis][f'image_{image_count}']['path'] = f\"./figures/{experiment_name}_{analysis}_{basin_name_underscore}_{variable}_{uplow[0]}_{uplow[1]}.png\"\n",
    "                print(cn['analyses'][analysis][f'image_{image_count}']['path'])\n",
    "                cn['analyses'][analysis][f'image_{image_count}']['short_name'] = f\"{experiment_name}_{analysis}_{basin_name_underscore}_{variable}_{uplow[0]}_{uplow[1]}\"\n",
    "                image_count = image_count+1"
   ]
  },
  {
   "cell_type": "code",
   "execution_count": 27,
   "metadata": {},
   "outputs": [
    {
     "name": "stdout",
     "output_type": "stream",
     "text": [
      "./figures/compare_two_CORE_ollie_xmoc_Global_Ocean.png\n",
      "./figures/compare_two_CORE_ollie_xmoc_Atlantic_MOC.png\n"
     ]
    }
   ],
   "source": [
    "if 'xmoc' in settings.keys():\n",
    "    analysis = 'xmoc'\n",
    "    cn['analyses'][analysis] = {}\n",
    "    image_count = 0\n",
    "    for basin, basin_data in settings[analysis].items():\n",
    "        basin_name_underscore = basin.replace(' ', '_')\n",
    "#         for variable, variable_data in basin_data.items():\n",
    "#             print()\n",
    "#             for uplow in variable_data['uplows']:\n",
    "        cn['analyses'][analysis][f'image_{image_count}'] = {}\n",
    "        cn['analyses'][analysis][f'image_{image_count}']['name'] = f\"MOC for {basin}.\"\n",
    "        cn['analyses'][analysis][f'image_{image_count}']['path'] = f\"./figures/{experiment_name}_{analysis}_{basin_name_underscore}.png\"\n",
    "        print(cn['analyses'][analysis][f'image_{image_count}']['path'])\n",
    "        cn['analyses'][analysis][f'image_{image_count}']['short_name'] = f\"{experiment_name}_{analysis}_{basin_name_underscore}\"\n",
    "        image_count = image_count+1"
   ]
  },
  {
   "cell_type": "code",
   "execution_count": 28,
   "metadata": {},
   "outputs": [],
   "source": [
    "for experiment_name, experiment_path in zip(experiment_names, experiment_paths):\n",
    "    ofolder = f\"{experiment_path}/\"\n",
    "#     if not os.path.exists(ofolder):\n",
    "#         os.makedirs(ofolder)\n",
    "#     date = cn[\"experiments\"][experiment_name][\"date\"]\n",
    "    ofilename = f\"{experiment_name}.html\"\n",
    "    opath = os.path.join(ofolder, ofilename)\n",
    "    ofile = open(opath, \"w\")\n",
    "    template = env.get_template(\"experiment.html\")\n",
    "#     output = template.render(cn[\"experiments\"][experiment_name])\n",
    "    output = template.render(cn)\n",
    "    ofile.write(output)\n",
    "    ofile.close()"
   ]
  },
  {
   "cell_type": "code",
   "execution_count": 26,
   "metadata": {},
   "outputs": [
    {
     "data": {
      "text/plain": [
       "{'meshpath': '/Users/nkolduno/PYTHON/DATA/core2_meanz_mesh/',\n",
       " 'abg': [50, 15, -90],\n",
       " 'climatology_path': '/Users/nkolduno/PYTHON/DATA/CLIM_on_mesh/core2_meanz/',\n",
       " 'climatology_year': 1948,\n",
       " 'columns': 2,\n",
       " 'bbox': [-180, 180, -80, 90],\n",
       " 'res': [360, 180],\n",
       " 'mapproj': 'pc',\n",
       " 'figsize': [24, 14],\n",
       " 'figsize_small': [7, 4.326],\n",
       " 'start_year': 1978,\n",
       " 'end_year': 1986,\n",
       " 'difference': {'temp': {'levels': [-1, 1, 41], 'depths': [0, 100, 1000]},\n",
       "  'salt': {'levels': [-0.5, 0.5, 41],\n",
       "   'depths': [0, 100, 1000],\n",
       "   'units': 'psu'}},\n",
       " 'climatology': {'temp': {'levels': [-5, 5, 41], 'depths': [0, 100, 1000]},\n",
       "  'salt': {'levels': [-1, 1, 41], 'depths': [0, 100, 1000], 'units': 'psu'}},\n",
       " 'ice_integrals': {'figsize': [10, 5], 'hemisphere': 'N'},\n",
       " 'hovm_difference': {'Eurasian basin': {'temp': {'levels': [-0.1, 0.1, 41],\n",
       "    'maxdepth': 1000},\n",
       "   'salt': {'levels': [-0.1, 0.1, 41], 'maxdepth': 1000}},\n",
       "  'Amerasian basin': {'temp': {'levels': [-0.1, 0.1, 41], 'maxdepth': 1000},\n",
       "   'salt': {'levels': [-0.1, 0.1, 41], 'maxdepth': 1000}}},\n",
       " 'hovm_difference_clim': {'Eurasian basin': {'temp': {'levels': [-0.3,\n",
       "     0.3,\n",
       "     41],\n",
       "    'maxdepth': 1000},\n",
       "   'salt': {'levels': [-0.1, 0.1, 41], 'maxdepth': 1000}},\n",
       "  'Amerasian basin': {'temp': {'levels': [-0.3, 0.3, 41], 'maxdepth': 1000},\n",
       "   'salt': {'levels': [-0.1, 0.1, 41], 'maxdepth': 1000}},\n",
       "  'Global Ocean': {'temp': {'levels': [-0.1, 0.1, 41], 'maxdepth': 1000},\n",
       "   'salt': {'levels': [-0.1, 0.1, 41], 'maxdepth': 1000}}},\n",
       " 'oce_integrals': {'Global Ocean': {'temp': {'uplows': [[0, 100], [0, 700]]},\n",
       "   'salt': {'uplows': [[0, 100], [0, 700]]}},\n",
       "  'Eurasian basin': {'temp': {'uplows': [[0, 100], [0, 700]]},\n",
       "   'salt': {'uplows': [[0, 100], [0, 700]]}}},\n",
       " 'xmoc': {'Global Ocean': {'levels': [-20, 20, 41]},\n",
       "  'Atlantic_MOC': {'levels': [-5, 15, 41]}}}"
      ]
     },
     "execution_count": 26,
     "metadata": {},
     "output_type": "execute_result"
    }
   ],
   "source": [
    "settings"
   ]
  },
  {
   "cell_type": "code",
   "execution_count": null,
   "metadata": {},
   "outputs": [],
   "source": []
  }
 ],
 "metadata": {
  "kernelspec": {
   "display_name": "Python 3",
   "language": "python",
   "name": "python3"
  },
  "language_info": {
   "codemirror_mode": {
    "name": "ipython",
    "version": 3
   },
   "file_extension": ".py",
   "mimetype": "text/x-python",
   "name": "python",
   "nbconvert_exporter": "python",
   "pygments_lexer": "ipython3",
   "version": "3.8.5"
  }
 },
 "nbformat": 4,
 "nbformat_minor": 4
}
