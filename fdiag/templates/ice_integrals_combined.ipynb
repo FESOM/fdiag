{
 "cells": [
  {
   "cell_type": "code",
   "execution_count": 1,
   "metadata": {},
   "outputs": [
    {
     "name": "stdout",
     "output_type": "stream",
     "text": [
      "osgeo is not installed, conversion to Geo formats like Geotiff (fesom2GeoFormat) will not work.\n"
     ]
    }
   ],
   "source": [
    "import pyfesom2 as pf\n",
    "import xarray as xr\n",
    "import os\n",
    "import pandas as pd\n",
    "import tqdm\n",
    "from collections import OrderedDict\n",
    "from itertools import product\n",
    "import matplotlib.pylab as plt\n",
    "import math\n",
    "import numpy as np\n",
    "%matplotlib inline"
   ]
  },
  {
   "cell_type": "code",
   "execution_count": 27,
   "metadata": {
    "tags": [
     "parameters"
    ]
   },
   "outputs": [],
   "source": [
    "# parameters cell\n",
    "meshpath = '/p/project/chhb19/streffing1/input/fesom2/dart/'\n",
    "abg = [0, 0, 0]\n",
    "input_paths = ['/p/scratch/chhb19/semmler1/runtime/awicm3-frontiers/DART3/outdata/fesom','/p/scratch/chhb19/semmler1/runtime/awicm3-frontiers/DART6/outdata/fesom','/p/scratch/chhb19/semmler1/runtime/awicm3-frontiers/DARTS/outdata/fesom']\n",
    "input_names = ['DART3','DART6','DARTS']\n",
    "years = range(1990, 2022)\n",
    "figsize=(10, 5)\n",
    "hemisphere = ['N','S']\n",
    "dpi = 200\n",
    "ofile = None"
   ]
  },
  {
   "cell_type": "code",
   "execution_count": 28,
   "metadata": {},
   "outputs": [],
   "source": [
    "if input_names is None:\n",
    "    input_names = []\n",
    "    for run in input_paths:\n",
    "        run = os.path.join(run, '')\n",
    "        input_names.append(run.split('/')[-2])"
   ]
  },
  {
   "cell_type": "code",
   "execution_count": 29,
   "metadata": {},
   "outputs": [],
   "source": [
    "def define_rowscol(input_paths, columns=len(input_paths), reduce=0):\n",
    "    number_paths = len(input_paths) - reduce\n",
    "#     columns = columns\n",
    "    if number_paths < columns:\n",
    "        ncol = number_paths\n",
    "    else:\n",
    "        ncol = columns\n",
    "    nrows = math.ceil(number_paths / columns)\n",
    "    return [nrows, ncol]"
   ]
  },
  {
   "cell_type": "code",
   "execution_count": 30,
   "metadata": {},
   "outputs": [
    {
     "name": "stdout",
     "output_type": "stream",
     "text": [
      "/p/project/chhb19/streffing1/input/fesom2/dart/pickle_mesh_py3_fesom2\n",
      "The usepickle == True)\n",
      "The pickle file for FESOM2 exists.\n",
      "The mesh will be loaded from /p/project/chhb19/streffing1/input/fesom2/dart/pickle_mesh_py3_fesom2\n"
     ]
    }
   ],
   "source": [
    "mesh = pf.load_mesh(meshpath, abg=abg, \n",
    "                    usepickle=True, usejoblib=False)"
   ]
  },
  {
   "cell_type": "code",
   "execution_count": 31,
   "metadata": {},
   "outputs": [
    {
     "name": "stdout",
     "output_type": "stream",
     "text": [
      "<class 'collections.OrderedDict'>\n"
     ]
    }
   ],
   "source": [
    "a_ice = OrderedDict()\n",
    "print(type(a_ice))\n",
    "# data_reference = pf.get_data(reference_path, variable, reference_years, mesh, depth = depth, silent=True)\n",
    "for exp_path, exp_name  in zip(input_paths, input_names):\n",
    "    \n",
    "    a_ice[exp_name] = {}\n",
    "    a_ice[exp_name]['data'] = pf.get_data(exp_path, 'a_ice', years, mesh, how=None, compute=False, silent=True)"
   ]
  },
  {
   "cell_type": "code",
   "execution_count": 32,
   "metadata": {},
   "outputs": [
    {
     "name": "stderr",
     "output_type": "stream",
     "text": [
      "/p/project/chhb19/jstreffi/software/miniconda3/envs/pyfesom2/lib/python3.9/site-packages/xarray/core/indexing.py:1226: PerformanceWarning: Slicing is producing a large chunk. To accept the large\n",
      "chunk and silence this warning, set the option\n",
      "    >>> with dask.config.set(**{'array.slicing.split_large_chunks': False}):\n",
      "    ...     array[indexer]\n",
      "\n",
      "To avoid creating the large chunks, set the option\n",
      "    >>> with dask.config.set(**{'array.slicing.split_large_chunks': True}):\n",
      "    ...     array[indexer]\n",
      "  return self.array[key]\n",
      "/p/project/chhb19/jstreffi/software/miniconda3/envs/pyfesom2/lib/python3.9/site-packages/xarray/core/indexing.py:1226: PerformanceWarning: Slicing is producing a large chunk. To accept the large\n",
      "chunk and silence this warning, set the option\n",
      "    >>> with dask.config.set(**{'array.slicing.split_large_chunks': False}):\n",
      "    ...     array[indexer]\n",
      "\n",
      "To avoid creating the large chunks, set the option\n",
      "    >>> with dask.config.set(**{'array.slicing.split_large_chunks': True}):\n",
      "    ...     array[indexer]\n",
      "  return self.array[key]\n",
      "/p/project/chhb19/jstreffi/software/miniconda3/envs/pyfesom2/lib/python3.9/site-packages/xarray/core/indexing.py:1226: PerformanceWarning: Slicing is producing a large chunk. To accept the large\n",
      "chunk and silence this warning, set the option\n",
      "    >>> with dask.config.set(**{'array.slicing.split_large_chunks': False}):\n",
      "    ...     array[indexer]\n",
      "\n",
      "To avoid creating the large chunks, set the option\n",
      "    >>> with dask.config.set(**{'array.slicing.split_large_chunks': True}):\n",
      "    ...     array[indexer]\n",
      "  return self.array[key]\n",
      "/p/project/chhb19/jstreffi/software/miniconda3/envs/pyfesom2/lib/python3.9/site-packages/xarray/core/indexing.py:1226: PerformanceWarning: Slicing is producing a large chunk. To accept the large\n",
      "chunk and silence this warning, set the option\n",
      "    >>> with dask.config.set(**{'array.slicing.split_large_chunks': False}):\n",
      "    ...     array[indexer]\n",
      "\n",
      "To avoid creating the large chunks, set the option\n",
      "    >>> with dask.config.set(**{'array.slicing.split_large_chunks': True}):\n",
      "    ...     array[indexer]\n",
      "  return self.array[key]\n",
      "/p/project/chhb19/jstreffi/software/miniconda3/envs/pyfesom2/lib/python3.9/site-packages/xarray/core/indexing.py:1226: PerformanceWarning: Slicing is producing a large chunk. To accept the large\n",
      "chunk and silence this warning, set the option\n",
      "    >>> with dask.config.set(**{'array.slicing.split_large_chunks': False}):\n",
      "    ...     array[indexer]\n",
      "\n",
      "To avoid creating the large chunks, set the option\n",
      "    >>> with dask.config.set(**{'array.slicing.split_large_chunks': True}):\n",
      "    ...     array[indexer]\n",
      "  return self.array[key]\n",
      "/p/project/chhb19/jstreffi/software/miniconda3/envs/pyfesom2/lib/python3.9/site-packages/xarray/core/indexing.py:1226: PerformanceWarning: Slicing is producing a large chunk. To accept the large\n",
      "chunk and silence this warning, set the option\n",
      "    >>> with dask.config.set(**{'array.slicing.split_large_chunks': False}):\n",
      "    ...     array[indexer]\n",
      "\n",
      "To avoid creating the large chunks, set the option\n",
      "    >>> with dask.config.set(**{'array.slicing.split_large_chunks': True}):\n",
      "    ...     array[indexer]\n",
      "  return self.array[key]\n"
     ]
    }
   ],
   "source": [
    "ice_area = {}\n",
    "for key, value in a_ice.items():\n",
    "    ice_area[key] = {}\n",
    "    for h in hemisphere:\n",
    "        ice_area[key][h] = pf.ice_area(value['data'], mesh, hemisphere=h)"
   ]
  },
  {
   "cell_type": "code",
   "execution_count": 33,
   "metadata": {},
   "outputs": [
    {
     "data": {
      "image/png": "[encoded data removed]",
      "text/plain": [
       "<Figure size 720x360 with 4 Axes>"
      ]
     },
     "metadata": {
      "needs_background": "light"
     },
     "output_type": "display_data"
    }
   ],
   "source": [
    "nrows, ncol = define_rowscol(input_paths,columns)\n",
    "fig, axes = plt.subplots(nrows=nrows, ncols=ncol, figsize=figsize)\n",
    "if isinstance(axes, np.ndarray):\n",
    "    axes = axes.flatten()\n",
    "else:\n",
    "    axes = [axes]\n",
    "n = 0\n",
    "i = 0\n",
    "for key, value in ice_area.items():\n",
    "    for h in hemisphere:\n",
    "        for month in [3,9]:\n",
    "            toplot = value[h].sel(time=value[h].time.dt.month.isin([month]))\n",
    "            toplot.plot(label=key, linestyle='-', ax=axes[i])\n",
    "            n = n+1\n",
    "    axes[i].set_title(key)\n",
    "    axes[i].legend(['N march', 'N sep', 'S march', 'S, sep'],loc=3)\n",
    "    i = i+1\n",
    "fig.tight_layout()\n",
    "\n",
    "if ofile is not None:\n",
    "    ofile_long = f\"{ofile}_icearea_combined.png\"\n",
    "    plt.savefig(f\"{ofile_long}\", dpi=dpi)\n",
    "    os.system(f'convert {ofile_long} -trim {ofile_long}_trimmed.png')\n",
    "    os.system(f'mv {ofile_long}_trimmed.png {ofile_long}')"
   ]
  },
  {
   "cell_type": "code",
   "execution_count": null,
   "metadata": {},
   "outputs": [
    {
     "name": "stderr",
     "output_type": "stream",
     "text": [
      "/p/project/chhb19/jstreffi/software/miniconda3/envs/pyfesom2/lib/python3.9/site-packages/xarray/core/indexing.py:1226: PerformanceWarning: Slicing is producing a large chunk. To accept the large\n",
      "chunk and silence this warning, set the option\n",
      "    >>> with dask.config.set(**{'array.slicing.split_large_chunks': False}):\n",
      "    ...     array[indexer]\n",
      "\n",
      "To avoid creating the large chunks, set the option\n",
      "    >>> with dask.config.set(**{'array.slicing.split_large_chunks': True}):\n",
      "    ...     array[indexer]\n",
      "  return self.array[key]\n"
     ]
    }
   ],
   "source": [
    "ice_ext = {}\n",
    "for key, value in a_ice.items():\n",
    "    ice_ext[key] = {}\n",
    "    for h in hemisphere:\n",
    "        ice_ext[key][h] = pf.ice_ext(value['data'], mesh, hemisphere=h)"
   ]
  },
  {
   "cell_type": "code",
   "execution_count": null,
   "metadata": {},
   "outputs": [],
   "source": [
    "nrows, ncol = define_rowscol(input_paths)\n",
    "fig, axes = plt.subplots(nrows=nrows, ncols=ncol, figsize=figsize)\n",
    "if isinstance(axes, np.ndarray):\n",
    "    axes = axes.flatten()\n",
    "else:\n",
    "    axes = [axes]\n",
    "n = 0\n",
    "i = 0\n",
    "for key, value in ice_ext.items():\n",
    "    for h in hemisphere:\n",
    "        for month in [3,9]:\n",
    "            toplot = value[h].sel(time=value[h].time.dt.month.isin([month]))\n",
    "            toplot.plot(label=key, linestyle='-', ax=axes[i])\n",
    "            n = n+1\n",
    "    axes[i].set_title(key)\n",
    "    axes[i].legend(['N march', 'N sep', 'S march', 'S, sep'],loc=3)\n",
    "    i = i+1\n",
    "fig.tight_layout()\n",
    "\n",
    "if ofile is not None:\n",
    "    ofile_long = f\"{ofile}_iceext_combined.png\"\n",
    "    plt.savefig(f\"{ofile_long}\", dpi=dpi)\n",
    "    os.system(f'convert {ofile_long} -trim {ofile_long}_trimmed.png')\n",
    "    os.system(f'mv {ofile_long}_trimmed.png {ofile_long}')"
   ]
  },
  {
   "cell_type": "code",
   "execution_count": null,
   "metadata": {},
   "outputs": [],
   "source": [
    "m_ice = OrderedDict()\n",
    "# data_reference = pf.get_data(reference_path, variable, reference_years, mesh, depth = depth, silent=True)\n",
    "for exp_path, exp_name  in zip(input_paths, input_names):\n",
    "    m_ice[exp_name] = {}\n",
    "    m_ice[exp_name]['data'] = pf.get_data(exp_path, 'm_ice', years, mesh, how=None, compute=False, silent=True)"
   ]
  },
  {
   "cell_type": "code",
   "execution_count": null,
   "metadata": {},
   "outputs": [],
   "source": [
    "ice_vol = {}\n",
    "for key, value in m_ice.items():\n",
    "    ice_vol[key] = {}\n",
    "    for h in hemisphere:\n",
    "        ice_vol[key][h] = pf.ice_vol(value['data'], mesh, hemisphere=h)"
   ]
  },
  {
   "cell_type": "code",
   "execution_count": null,
   "metadata": {},
   "outputs": [],
   "source": [
    "nrows, ncol = define_rowscol(input_paths)\n",
    "fig, axes = plt.subplots(nrows=nrows, ncols=ncol, figsize=figsize)\n",
    "if isinstance(axes, np.ndarray):\n",
    "    axes = axes.flatten()\n",
    "else:\n",
    "    axes = [axes]\n",
    "n = 0\n",
    "i = 0\n",
    "for key, value in ice_vol.items():\n",
    "    for h in hemisphere:\n",
    "        for month in [3,9]:\n",
    "            toplot = value[h].sel(time=value[h].time.dt.month.isin([month]))\n",
    "            toplot.plot(label=key, linestyle='-', ax=axes[i])\n",
    "            n = n+1\n",
    "    axes[i].set_title(key)\n",
    "    axes[i].legend(['N march', 'N sep', 'S march', 'S, sep'],loc=3)\n",
    "    i = i+1\n",
    "fig.tight_layout()\n",
    "\n",
    "if ofile is not None:\n",
    "    ofile_long = f\"{ofile}_icevol_combined.png\"\n",
    "    plt.savefig(f\"{ofile_long}\", dpi=dpi)\n",
    "    os.system(f'convert {ofile_long} -trim {ofile_long}_trimmed.png')\n",
    "    os.system(f'mv {ofile_long}_trimmed.png {ofile_long}')"
   ]
  },
  {
   "cell_type": "code",
   "execution_count": null,
   "metadata": {},
   "outputs": [],
   "source": []
  }
 ],
 "metadata": {
  "celltoolbar": "Tags",
  "kernelspec": {
   "display_name": "Python 3 (ipykernel)",
   "language": "python",
   "name": "python3"
  },
  "language_info": {
   "codemirror_mode": {
    "name": "ipython",
    "version": 3
   },
   "file_extension": ".py",
   "mimetype": "text/x-python",
   "name": "python",
   "nbconvert_exporter": "python",
   "pygments_lexer": "ipython3",
   "version": "3.9.6"
  },
  "varInspector": {
   "cols": {
    "lenName": 16,
    "lenType": 16,
    "lenVar": 40
   },
   "kernels_config": {
    "python": {
     "delete_cmd_postfix": "",
     "delete_cmd_prefix": "del ",
     "library": "var_list.py",
     "varRefreshCmd": "print(var_dic_list())"
    },
    "r": {
     "delete_cmd_postfix": ") ",
     "delete_cmd_prefix": "rm(",
     "library": "var_list.r",
     "varRefreshCmd": "cat(var_dic_list()) "
    }
   },
   "position": {
    "height": "828.85px",
    "left": "1542px",
    "right": "20px",
    "top": "120px",
    "width": "358px"
   },
   "types_to_exclude": [
    "module",
    "function",
    "builtin_function_or_method",
    "instance",
    "_Feature"
   ],
   "window_display": true
  }
 },
 "nbformat": 4,
 "nbformat_minor": 4
}
