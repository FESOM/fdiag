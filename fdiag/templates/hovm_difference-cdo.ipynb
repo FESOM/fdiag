{
 "cells": [
  {
   "cell_type": "code",
   "execution_count": 1,
   "metadata": {},
   "outputs": [
    {
     "name": "stdout",
     "output_type": "stream",
     "text": [
      "osgeo is not installed, conversion to Geo formats like Geotiff (fesom2GeoFormat) will not work.\n"
     ]
    }
   ],
   "source": [
    "import pyfesom2 as pf\n",
    "import xarray as xr\n",
    "import os\n",
    "import pandas as pd\n",
    "from collections import OrderedDict\n",
    "from itertools import product\n",
    "import matplotlib.pylab as plt\n",
    "import numpy as np\n",
    "from matplotlib import cm\n",
    "%matplotlib inline\n",
    "import matplotlib.pylab as plt\n",
    "from matplotlib.ticker import (MultipleLocator, FormatStrFormatter,\n",
    "                               AutoMinorLocator)\n",
    "import tqdm as tqdm\n",
    "from cdo import *   # python version\n",
    "cdo = Cdo()\n",
    "import csv\n",
    "import cmocean as cmo\n",
    "import dask\n",
    "from dask.delayed import delayed\n",
    "from dask.diagnostics import ProgressBar\n",
    "import math\n"
   ]
  },
  {
   "cell_type": "code",
   "execution_count": 17,
   "metadata": {
    "tags": [
     "parameters"
    ]
   },
   "outputs": [],
   "source": [
    "# parameters cell\n",
    "meshpath = '/p/project/chhb19/streffing1/input/fesom2/core2/'\n",
    "remap_resolution = '360x181'\n",
    "mesh_file = 'CORE2_finaltopo_mean.nc'\n",
    "abg = [0, 0, 0]\n",
    "variable = 'temp'\n",
    "input_paths = [\"/p/largedata/hhb19/jstreffi/runtime/awicm-3.1/PICT/outdata/fesom/\",\"/p/largedata/hhb19/jstreffi/runtime/awicm-3.1/HIST/outdata/fesom/\"\n",
    "               ]\n",
    "input_names = ['PICT','HIST']\n",
    "#input_paths = [\"/p/largedata/hhb19/jstreffi/runtime/awicm-3.1/SPIN/outdata/fesom/\"\n",
    "#               ]\n",
    "#input_names = ['SPIN']\n",
    "years = range(1850, 2014)\n",
    "reference_path = '/p/project/chhb19/streffing1/postprocessing/climatologies/fdiag/output_awicm3/'\n",
    "reference_name = 'clim'\n",
    "reference_years = 1958\n",
    "figsize=(7,4.3)\n",
    "levels = [-1.5, 1.5, 11]\n",
    "maxdepth = 6000\n",
    "units = r'$^\\circ$C'\n",
    "columns = 2\n",
    "dpi = 500\n",
    "ofile = \"Hovmoeller_temp\"\n",
    "region = \"Global Ocean\""
   ]
  },
  {
   "cell_type": "code",
   "execution_count": 18,
   "metadata": {},
   "outputs": [],
   "source": [
    "# Obtain input names from path if not set explicitly\n",
    "if input_names is None:\n",
    "    input_names = []\n",
    "    for run in input_paths:\n",
    "        run = os.path.join(run, '')\n",
    "        input_names.append(run.split('/')[-2])"
   ]
  },
  {
   "cell_type": "code",
   "execution_count": 19,
   "metadata": {},
   "outputs": [
    {
     "name": "stdout",
     "output_type": "stream",
     "text": [
      "/p/project/chhb19/streffing1/input/fesom2/core2/pickle_mesh_py3_fesom2\n",
      "The usepickle == True)\n",
      "The pickle file for FESOM2 exists.\n",
      "The mesh will be loaded from /p/project/chhb19/streffing1/input/fesom2/core2/pickle_mesh_py3_fesom2\n"
     ]
    }
   ],
   "source": [
    "# Load fesom2 mesh\n",
    "mesh = pf.load_mesh(meshpath, abg=abg, \n",
    "                    usepickle=True, usejoblib=False)"
   ]
  },
  {
   "cell_type": "code",
   "execution_count": 20,
   "metadata": {},
   "outputs": [],
   "source": [
    "# Load reference data\n",
    "path=reference_path+'/'+variable+'.fesom.'+str(reference_years)+'.nc'\n",
    "data_ref = cdo.yearmean(input='-fldmean -setctomiss,0 -remap,r'+remap_resolution+','+meshpath+'/weights_unstr_2_r'+remap_resolution+'.nc -setgrid,'+meshpath+'/'+mesh_file+' '+str(path),returnArray=variable)\n",
    "data_ref = np.squeeze(data_ref)"
   ]
  },
  {
   "cell_type": "code",
   "execution_count": 21,
   "metadata": {},
   "outputs": [
    {
     "name": "stderr",
     "output_type": "stream",
     "text": [
      "100%|█████████████████████████████████████████████████████████████████████████████████████████████████████████████████████████████████████████████████████████████████████████| 164/164 [00:00<00:00, 16657.36it/s]"
     ]
    },
    {
     "name": "stdout",
     "output_type": "stream",
     "text": [
      "[                                        ] | 0% Completed |  0.1s"
     ]
    },
    {
     "name": "stderr",
     "output_type": "stream",
     "text": [
      "\n"
     ]
    },
    {
     "name": "stdout",
     "output_type": "stream",
     "text": [
      "[########################################] | 100% Completed |  1min 27.7s\n"
     ]
    },
    {
     "name": "stderr",
     "output_type": "stream",
     "text": [
      "100%|█████████████████████████████████████████████████████████████████████████████████████████████████████████████████████████████████████████████████████████████████████████| 164/164 [00:00<00:00, 10620.29it/s]"
     ]
    },
    {
     "name": "stdout",
     "output_type": "stream",
     "text": [
      "[                                        ] | 0% Completed |  0.2s"
     ]
    },
    {
     "name": "stderr",
     "output_type": "stream",
     "text": [
      "\n"
     ]
    },
    {
     "name": "stdout",
     "output_type": "stream",
     "text": [
      "[########################################] | 100% Completed |  1min 29.7s\n"
     ]
    }
   ],
   "source": [
    "# Load model Data\n",
    "data = OrderedDict()\n",
    "\n",
    "def load_parallel(variable,path,remap_resolution,meshpath,mesh_file):\n",
    "    data1 = cdo.yearmean(input='-fldmean -setctomiss,0 -remap,r'+remap_resolution+','+meshpath+'/weights_unstr_2_r'+remap_resolution+'.nc -setgrid,'+meshpath+'/'+mesh_file+' '+str(path),returnArray=variable)\n",
    "    return data1\n",
    "\n",
    "\n",
    "for exp_path, exp_name  in zip(input_paths, input_names):\n",
    "\n",
    "    datat = []\n",
    "    t = []\n",
    "    temporary = []\n",
    "    for year in tqdm.tqdm(years):\n",
    "        path = exp_path+'/'+variable+'.fesom.'+str(year)+'.nc'\n",
    "        temporary = dask.delayed(load_parallel)(variable,path,remap_resolution,meshpath,mesh_file)\n",
    "        t.append(temporary)\n",
    "\n",
    "    with ProgressBar():\n",
    "        datat = dask.compute(t)\n",
    "    data[exp_name] = np.squeeze(datat)\n"
   ]
  },
  {
   "cell_type": "code",
   "execution_count": 22,
   "metadata": {},
   "outputs": [],
   "source": [
    "# Read depths from 3D file, since mesh.zlevs is empty..\n",
    "depths = pd.read_csv(meshpath+'/aux3d.out',  nrows=mesh.nlev) "
   ]
  },
  {
   "cell_type": "code",
   "execution_count": 23,
   "metadata": {},
   "outputs": [],
   "source": [
    "# Reshape data and expand reference climatology to length for data in preparation for Hovmöller diagram\n",
    "data_ref_expand = OrderedDict()\n",
    "for exp_name  in input_names:\n",
    "    data[exp_name] = np.flip(np.squeeze(data[exp_name]),axis=1)\n",
    "    \n",
    "data_ref_expand = np.tile(data_ref,(np.shape(data[exp_name])[0],1)).T"
   ]
  },
  {
   "cell_type": "code",
   "execution_count": 24,
   "metadata": {},
   "outputs": [],
   "source": [
    "# Flip data for contourf plot\n",
    "data_diff = OrderedDict()\n",
    "for exp_name in input_names:\n",
    "    data_diff[exp_name]=np.flip(data[exp_name].T,axis=0)-data_ref_expand"
   ]
  },
  {
   "cell_type": "code",
   "execution_count": 25,
   "metadata": {},
   "outputs": [],
   "source": [
    "# Prepare coordianates for contourf plot\n",
    "X,Y = np.meshgrid(years,depths[:len(depths)-1])"
   ]
  },
  {
   "cell_type": "code",
   "execution_count": 26,
   "metadata": {},
   "outputs": [],
   "source": [
    "# Calculate number of rows and columns for plot\n",
    "def define_rowscol(input_paths, columns=len(input_paths), reduce=0):\n",
    "    number_paths = len(input_paths) - reduce\n",
    "#     columns = columns\n",
    "    if number_paths < columns:\n",
    "        ncol = number_paths\n",
    "    else:\n",
    "        ncol = columns\n",
    "    nrows = math.ceil(number_paths / columns)\n",
    "    return [nrows, ncol]"
   ]
  },
  {
   "cell_type": "code",
   "execution_count": 28,
   "metadata": {},
   "outputs": [
    {
     "name": "stderr",
     "output_type": "stream",
     "text": [
      "convert: unable to open image 'Hovmoeller_temp': No such file or directory @ error/blob.c/OpenBlob/3533.\n",
      "convert: no decode delegate for this image format `' @ error/constitute.c/ReadImage/572.\n",
      "convert: no images defined `Hovmoeller_temp_trimmed.png' @ error/convert.c/ConvertImageCommand/3322.\n",
      "mv: cannot stat 'Hovmoeller_temp_trimmed.png': No such file or directory\n"
     ]
    },
    {
     "data": {
      "image/png": "[encoded data removed]",
      "text/plain": [
       "<Figure size 1008x309.6 with 3 Axes>"
      ]
     },
     "metadata": {
      "needs_background": "light"
     },
     "output_type": "display_data"
    }
   ],
   "source": [
    "# Plot data and save it.\n",
    "mapticks = np.arange(levels[0],levels[1],0.1)\n",
    "\n",
    "nrows, ncols = define_rowscol(input_paths)\n",
    "fig, axes = plt.subplots(nrows=nrows, ncols=ncols, figsize=(figsize[0]*ncols,figsize[1]*nrows))\n",
    "\n",
    "\n",
    "if isinstance(axes, np.ndarray):\n",
    "    axes = axes.flatten()\n",
    "else:\n",
    "    axes = [axes]\n",
    "\n",
    "\n",
    "i = 0\n",
    "for exp_name in data_diff:\n",
    "    im = axes[i].contourf(X,Y,data_diff[exp_name],levels=mapticks, cmap=cm.PuOr_r, extend='both')\n",
    "    axes[i].set_title(exp_name+' - '+reference_name)\n",
    "    axes[i].set_ylabel('Depth [m]')\n",
    "    axes[i].set_xlabel('Year')\n",
    "    axes[i].xaxis.set_major_formatter(FormatStrFormatter('%.0f'))\n",
    "    axes[i].set_ylim(-maxdepth)\n",
    "    #axes[i].set_yscale('symlog')\n",
    "    i = i+1\n",
    "fig.tight_layout()\n",
    "\n",
    "if variable == \"temp\":\n",
    "    label='°C'\n",
    "elif variable == \"salt\":\n",
    "    label='PSU'\n",
    "    \n",
    "try:\n",
    "    cbar = fig.colorbar(im, ax=axes.ravel().tolist(),location='bottom', label=label, shrink=0.8, aspect=30, pad=0.2)\n",
    "except:\n",
    "    cbar = fig.colorbar(im, ax=axes,location='bottom', label=label, shrink=0.8, aspect=25, pad=0.16)\n",
    "\n",
    "\n",
    "\n",
    "if ofile is not None:\n",
    "    plt.savefig(ofile, dpi=dpi)\n",
    "    os.system(f'convert {ofile} -trim {ofile}_trimmed.png')\n",
    "    os.system(f'mv {ofile}_trimmed.png {ofile}')"
   ]
  },
  {
   "cell_type": "code",
   "execution_count": null,
   "metadata": {},
   "outputs": [],
   "source": []
  },
  {
   "cell_type": "code",
   "execution_count": null,
   "metadata": {},
   "outputs": [],
   "source": []
  },
  {
   "cell_type": "code",
   "execution_count": null,
   "metadata": {},
   "outputs": [],
   "source": [
    "# Load model Data\n",
    "data = OrderedDict()\n",
    "\n",
    "mask_id=0\n",
    "if region = \"Global Ocean\":\n",
    "    mask_id=0\n",
    "elif region = \"Atlantic_Basin\":\n",
    "    mask_id=1\n",
    "elif region = \"Pacific_Basin\":\n",
    "    mask_id=2\n",
    "elif region = \"Indian_Basin\":\n",
    "    mask_id=3\n",
    "elif region = \"Southern_Ocean_Basin\":\n",
    "    mask_id=10\n",
    "elif region = \"Arctic_Basin\":\n",
    "    mask_id=11\n",
    "else:\n",
    "\n",
    "\n",
    "def load_parallel(variable,path,remap_resolution,meshpath,mesh_file):\n",
    "    sys.exit('Region not supported:'region)\n",
    "    if mask_id >0:\n",
    "        \n",
    "    else:\n",
    "        data1 = cdo.yearmean(input=\"-fldmean -divc,2 -expr,'\"+variable+\"=(\"+variable+\" == \"+mask_id+\") ? \"+variable+\" : 0' data.nc -setctomiss,0 -remap,r\"+remap_resolution+\",\"+meshpath+\"/weights_unstr_2_r\"+remap_resolution+\".nc -setgrid,\"+meshpath+\"/\"+mesh_file+\" \"+str(path),returnArray=variable)\n",
    "    return data1\n",
    "\n",
    "\n",
    "for exp_path, exp_name  in zip(input_paths, input_names):\n",
    "\n",
    "    datat = []\n",
    "    t = []\n",
    "    temporary = []\n",
    "    for year in tqdm.tqdm(years):\n",
    "        path = exp_path+'/'+variable+'.fesom.'+str(year)+'.nc'\n",
    "        temporary = dask.delayed(load_parallel)(variable,path,remap_resolution,meshpath,mesh_file)\n",
    "        t.append(temporary)\n",
    "\n",
    "    with ProgressBar():\n",
    "        datat = dask.compute(t)\n",
    "    data[exp_name] = np.squeeze(datat)\n"
   ]
  }
 ],
 "metadata": {
  "kernelspec": {
   "display_name": "Python 3 (ipykernel)",
   "language": "python",
   "name": "python3"
  },
  "language_info": {
   "codemirror_mode": {
    "name": "ipython",
    "version": 3
   },
   "file_extension": ".py",
   "mimetype": "text/x-python",
   "name": "python",
   "nbconvert_exporter": "python",
   "pygments_lexer": "ipython3",
   "version": "3.9.9"
  }
 },
 "nbformat": 4,
 "nbformat_minor": 4
}
