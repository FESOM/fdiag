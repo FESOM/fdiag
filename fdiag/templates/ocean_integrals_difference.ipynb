{
 "cells": [
  {
   "cell_type": "code",
   "execution_count": 1,
   "metadata": {},
   "outputs": [
    {
     "name": "stdout",
     "output_type": "stream",
     "text": [
      "osgeo is not installed, conversion to Geo formats like Geotiff (fesom2GeoFormat) will not work.\n"
     ]
    }
   ],
   "source": [
    "import pyfesom2 as pf\n",
    "import xarray as xr\n",
    "import os\n",
    "import pandas as pd\n",
    "from collections import OrderedDict\n",
    "from itertools import product\n",
    "import matplotlib.pylab as plt\n",
    "%matplotlib inline"
   ]
  },
  {
   "cell_type": "code",
   "execution_count": 2,
   "metadata": {
    "tags": [
     "parameters"
    ]
   },
   "outputs": [],
   "source": [
    "# parameters cell\n",
    "meshpath = \"/Users/nkolduno/PYTHON/DATA/core2_meanz_mesh/\"\n",
    "abg = [50, 15, -90]\n",
    "variable = 'temp'\n",
    "input_paths = [\n",
    "    \"/Users/nkolduno/PYTHON/DATA/output_7_8/\",\n",
    "    \"/Users/nkolduno/PYTHON/DATA/output_7_10\",\n",
    "]\n",
    "input_names = ['control', 'opt1']\n",
    "years = range(1978, 1986)\n",
    "\n",
    "reference_path = '/Users/nkolduno/PYTHON/DATA/CLIM_on_mesh/core2_meanz/'\n",
    "reference_name = 'clim'\n",
    "reference_years = 1948\n",
    "\n",
    "figsize=(10, 5)\n",
    "dpi = 200\n",
    "region = \"Global Ocean\"\n",
    "uplow = [0, 700]\n",
    "ofile = None"
   ]
  },
  {
   "cell_type": "code",
   "execution_count": 3,
   "metadata": {},
   "outputs": [],
   "source": [
    "if input_names is None:\n",
    "    input_names = []\n",
    "    for run in input_paths:\n",
    "        run = os.path.join(run, '')\n",
    "        input_names.append(run.split('/')[-2])"
   ]
  },
  {
   "cell_type": "code",
   "execution_count": null,
   "metadata": {},
   "outputs": [],
   "source": [
    "mesh = pf.load_mesh(meshpath, abg=abg, \n",
    "                    usepickle=True, usejoblib=False)"
   ]
  },
  {
   "cell_type": "code",
   "execution_count": null,
   "metadata": {},
   "outputs": [],
   "source": [
    "ocean_int = OrderedDict()\n",
    "data_reference = pf.get_data(reference_path, variable, reference_years, mesh, how='mean', silent=True)\n",
    "for exp_path, exp_name  in zip(input_paths, input_names):\n",
    "    ocean_int[exp_name] = {}\n",
    "    ocean_int[exp_name]['data'] = pf.get_data(exp_path, variable, years, mesh, how=None, compute=False, silent=True)"
   ]
  },
  {
   "cell_type": "code",
   "execution_count": 26,
   "metadata": {},
   "outputs": [
    {
     "name": "stdout",
     "output_type": "stream",
     "text": [
      "Upper depth: 0.0, Lower depth: -680.0\n",
      "Upper depth: 0.0, Lower depth: -680.0\n",
      "Upper depth: 0.0, Lower depth: -680.0\n"
     ]
    }
   ],
   "source": [
    "at_level = {}\n",
    "mask=pf.get_mask(mesh, region)\n",
    "at_level['reference'] = {}\n",
    "at_level['reference']['data'] = pf.volmean_data(data_reference, mesh, [uplow[0], uplow[1]], mask=mask )\n",
    "for key, value in ocean_int.items():\n",
    "    at_level[key] = {}\n",
    "    at_level[key]['data'] = pf.volmean_data(value['data'], mesh, [uplow[0], uplow[1]], mask=mask )\n",
    "    at_level[key]['difference'] = at_level[key]['data'] - at_level['reference']['data']\n",
    "del at_level['reference']"
   ]
  },
  {
   "cell_type": "code",
   "execution_count": 27,
   "metadata": {},
   "outputs": [
    {
     "data": {
      "image/png": "[encoded data removed]",
      "text/plain": [
       "<Figure size 720x360 with 1 Axes>"
      ]
     },
     "metadata": {
      "needs_background": "light"
     },
     "output_type": "display_data"
    }
   ],
   "source": [
    "plt.figure(figsize=figsize)\n",
    "n = 0\n",
    "for key, value in at_level.items():\n",
    "    if n<10:\n",
    "        value['difference'].plot(label=f'{key} - {reference_name}', linestyle='-')\n",
    "    else:\n",
    "        value['difference'].plot(label=f'{key} - {reference_name}', linestyle='--')\n",
    "    n = n+1\n",
    "plt.legend()\n",
    "if ofile is not None:\n",
    "    plt.savefig(ofile, dpi=dpi)\n",
    "    os.system(f'convert {ofile} -trim {ofile}_trimmed.png')\n",
    "    os.system(f'mv {ofile}_trimmed.png {ofile}')"
   ]
  },
  {
   "cell_type": "code",
   "execution_count": null,
   "metadata": {},
   "outputs": [],
   "source": []
  },
  {
   "cell_type": "code",
   "execution_count": null,
   "metadata": {},
   "outputs": [],
   "source": []
  },
  {
   "cell_type": "code",
   "execution_count": null,
   "metadata": {},
   "outputs": [],
   "source": []
  },
  {
   "cell_type": "code",
   "execution_count": null,
   "metadata": {},
   "outputs": [],
   "source": []
  }
 ],
 "metadata": {
  "kernelspec": {
   "display_name": "Python 3",
   "language": "python",
   "name": "python3"
  },
  "language_info": {
   "codemirror_mode": {
    "name": "ipython",
    "version": 3
   },
   "file_extension": ".py",
   "mimetype": "text/x-python",
   "name": "python",
   "nbconvert_exporter": "python",
   "pygments_lexer": "ipython3",
   "version": "3.6.7"
  }
 },
 "nbformat": 4,
 "nbformat_minor": 2
}
