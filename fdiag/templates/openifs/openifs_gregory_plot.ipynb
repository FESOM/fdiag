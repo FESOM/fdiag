{
 "cells": [
  {
   "cell_type": "code",
   "execution_count": 1,
   "id": "cae14014",
   "metadata": {},
   "outputs": [],
   "source": [
    "import xarray as xr\n",
    "import os\n",
    "import pandas as pd\n",
    "import tqdm\n",
    "import dask\n",
    "import numpy as np\n",
    "from dask.delayed import delayed\n",
    "from dask.diagnostics import ProgressBar\n",
    "from collections import OrderedDict\n",
    "from itertools import product\n",
    "import os\n",
    "from netCDF4 import Dataset\n",
    "from cdo import *   # python version\n",
    "cdo = Cdo()\n",
    "from scipy.stats import linregress\n",
    "import matplotlib.pylab as plt\n",
    "%matplotlib inline\n",
    "from matplotlib.ticker import (MultipleLocator, FormatStrFormatter,\n",
    "                               AutoMinorLocator)"
   ]
  },
  {
   "cell_type": "code",
   "execution_count": 2,
   "id": "895daaf7",
   "metadata": {
    "tags": [
     "parameters"
    ]
   },
   "outputs": [],
   "source": [
    "# parameters cell\n",
    "input_paths = ['/p/scratch/chhb19/jstreffi/runtime/awicm-3.1/4XCO/outdata/oifs/links/']\n",
    "input_names = ['4XCO']\n",
    "\n",
    "ctrl_input_paths = ['/p/scratch/chhb19/jstreffi/runtime/awicm-3.1/PICT/outdata/oifs/links/']\n",
    "ctrl_input_names = ['PICT']\n",
    "\n",
    "climatology_path = ['/p/project/chhb19/streffing1/obs/era5/netcdf/']\n",
    "accumulation_period = 21600 # output frequency of OpenIFS in seconds\n",
    "exps = range(1, 15)\n",
    "figsize=(10, 10)\n",
    "dpi = 300\n",
    "var = ['TSR', 'TTR', 'T2M'] \n",
    "#var must have order:  \n",
    "#1. Surface net solar radiation\n",
    "#2. Surface net thermal radiation\n",
    "#3. Top net solar radiation\n",
    "#4. Top net thermal radiation"
   ]
  },
  {
   "cell_type": "code",
   "execution_count": 3,
   "id": "5cd06a16",
   "metadata": {},
   "outputs": [
    {
     "name": "stderr",
     "output_type": "stream",
     "text": [
      "100%|██████████████████████████████████████████████████████████████████████████████████████████████████████████████████████████████████████████████████████████████████████████████| 14/14 [00:52<00:00,  3.72s/it]\n",
      "100%|██████████████████████████████████████████████████████████████████████████████████████████████████████████████████████████████████████████████████████████████████████████████| 14/14 [00:09<00:00,  1.40it/s]\n",
      "100%|██████████████████████████████████████████████████████████████████████████████████████████████████████████████████████████████████████████████████████████████████████████████| 14/14 [03:05<00:00, 13.26s/it]\n"
     ]
    }
   ],
   "source": [
    "# Load model Data\n",
    "\n",
    "data = OrderedDict()\n",
    "for v in var:\n",
    "    paths = []\n",
    "    data[v] = []\n",
    "    for exp in tqdm.tqdm(exps):\n",
    "        path = input_paths[0]+'/'+v+'_'+f'{exp:05d}.nc'\n",
    "        data[v].append(cdo.yearmean(input=\"-fldmean \"+str(path),returnArray=v)/accumulation_period)"
   ]
  },
  {
   "cell_type": "code",
   "execution_count": 4,
   "id": "0c1ced16",
   "metadata": {},
   "outputs": [
    {
     "name": "stderr",
     "output_type": "stream",
     "text": [
      "100%|████████████████████████████████████████████████████████████████████████████████████████████████████████████████████████████████████████████████████████████████████████████████| 9/9 [00:07<00:00,  1.23it/s]\n",
      "100%|████████████████████████████████████████████████████████████████████████████████████████████████████████████████████████████████████████████████████████████████████████████████| 9/9 [00:07<00:00,  1.24it/s]\n",
      "100%|████████████████████████████████████████████████████████████████████████████████████████████████████████████████████████████████████████████████████████████████████████████████| 9/9 [02:52<00:00, 19.13s/it]\n"
     ]
    }
   ],
   "source": [
    "ctrl_data = OrderedDict()\n",
    "for v in var:\n",
    "    paths = []\n",
    "    ctrl_data[v] = []\n",
    "    for exp in tqdm.tqdm(range(1, 10)):\n",
    "        path = ctrl_input_paths[0]+'/'+v+'_'+f'{exp:05d}.nc'\n",
    "        ctrl_data[v].append(cdo.yearmean(input=\"-fldmean \"+str(path),returnArray=v)/accumulation_period)"
   ]
  },
  {
   "cell_type": "code",
   "execution_count": 5,
   "id": "b70969f1",
   "metadata": {},
   "outputs": [],
   "source": [
    "t2m = (np.squeeze(np.vstack(data['T2M']))-np.mean(np.squeeze(np.vstack(ctrl_data['T2M']))))*accumulation_period\n",
    "toa = np.squeeze(np.vstack(data['TTR']))+np.squeeze(np.vstack(data['TSR']))-np.mean((np.squeeze(np.vstack(ctrl_data['TTR']))+np.squeeze(np.vstack(ctrl_data['TSR']))))"
   ]
  },
  {
   "cell_type": "code",
   "execution_count": 6,
   "id": "9af4bc6f",
   "metadata": {},
   "outputs": [
    {
     "data": {
      "text/plain": [
       "-0.047109246"
      ]
     },
     "execution_count": 6,
     "metadata": {},
     "output_type": "execute_result"
    }
   ],
   "source": [
    "np.mean((np.squeeze(np.vstack(ctrl_data['TTR']))+np.squeeze(np.vstack(ctrl_data['TSR']))))"
   ]
  },
  {
   "cell_type": "code",
   "execution_count": 10,
   "id": "9d79bcdf",
   "metadata": {},
   "outputs": [
    {
     "data": {
      "image/png": "[encoded data removed]",
      "text/plain": [
       "<Figure size 648x400.32 with 1 Axes>"
      ]
     },
     "metadata": {
      "needs_background": "light"
     },
     "output_type": "display_data"
    }
   ],
   "source": [
    "\n",
    "import matplotlib.pylab as pylab\n",
    "params = {'legend.fontsize': 'large',\n",
    "          'figure.figsize': (15, 5),\n",
    "         'axes.labelsize': 'large',\n",
    "         'axes.titlesize':'large',\n",
    "         'xtick.labelsize':'large',\n",
    "         'ytick.labelsize':'large'}\n",
    "pylab.rcParams.update(params)\n",
    "\n",
    "\n",
    "\n",
    "splitval=20\n",
    "res1 = linregress(t2m[0:splitval-1],toa[0:splitval-1])\n",
    "res2 = linregress(t2m[splitval:119],toa[splitval:119])\n",
    "\n",
    "fig, ax = plt.subplots(figsize=(9,5.56))\n",
    "\n",
    "plt.scatter(t2m[0:splitval-1],toa[0:splitval-1],color='darkblue',edgecolors= \"black\")\n",
    "plt.scatter(t2m[splitval:119],toa[splitval:119],color='orange',edgecolors= \"black\")\n",
    "plt.plot(t2m[0:splitval-1], res1.intercept + res1.slope*t2m[0:splitval-1], 'darkblue', label='first 20 years')\n",
    "plt.plot(t2m[splitval:119], res2.intercept + res2.slope*t2m[splitval:119], 'orange', label='following 100 years')\n",
    "\n",
    "#plt.text(2.5,5,'slope:'+str(np.round(res2.slope,3)),color='blue',fontsize=14)\n",
    "#plt.text(2.5,1.2,'slope:'+str(np.round(res1.slope,3)),color='orange',fontsize=14)\n",
    "\n",
    "\n",
    "plt.ylim(ymax = 7.5, ymin = 0)\n",
    "plt.xlim(xmax = 7, xmin = 0)\n",
    "\n",
    "ax.xaxis.set_minor_locator(AutoMinorLocator())\n",
    "ax.tick_params(which='minor', length=4)\n",
    "ax.yaxis.set_minor_locator(AutoMinorLocator())\n",
    "ax.tick_params(which='minor', length=4)\n",
    "ax.tick_params(direction='out', length=6, width=2,\n",
    "               grid_color='r', grid_alpha=0.5)\n",
    "ax = plt.gca()\n",
    "\n",
    "x_vals = np.array((0,7.5))\n",
    "y_vals = res1.intercept + res1.slope * x_vals\n",
    "plt.plot(x_vals, y_vals, '--',color='darkblue')\n",
    "\n",
    "x_vals = np.array((4.5,7))\n",
    "y_vals = res2.intercept + res2.slope * x_vals\n",
    "plt.plot(x_vals, y_vals, '--',color='orange')\n",
    "\n",
    "\n",
    "plt.legend(loc='upper right')\n",
    "\n",
    "plt.ylabel('Change in net downward radiative flux [W/m²]',fontsize=13)\n",
    "plt.xlabel('Change in near surface (2m) air temperature $\\Delta$T [C°]',fontsize=13)\n",
    "\n",
    "plt.savefig('gregory_plot.png', dpi=dpi)\n"
   ]
  },
  {
   "cell_type": "code",
   "execution_count": null,
   "id": "2449df8d",
   "metadata": {},
   "outputs": [],
   "source": []
  }
 ],
 "metadata": {
  "celltoolbar": "Tags",
  "kernelspec": {
   "display_name": "Python 3 (ipykernel)",
   "language": "python",
   "name": "python3"
  },
  "language_info": {
   "codemirror_mode": {
    "name": "ipython",
    "version": 3
   },
   "file_extension": ".py",
   "mimetype": "text/x-python",
   "name": "python",
   "nbconvert_exporter": "python",
   "pygments_lexer": "ipython3",
   "version": "3.9.9"
  },
  "varInspector": {
   "cols": {
    "lenName": 16,
    "lenType": 16,
    "lenVar": 40
   },
   "kernels_config": {
    "python": {
     "delete_cmd_postfix": "",
     "delete_cmd_prefix": "del ",
     "library": "var_list.py",
     "varRefreshCmd": "print(var_dic_list())"
    },
    "r": {
     "delete_cmd_postfix": ") ",
     "delete_cmd_prefix": "rm(",
     "library": "var_list.r",
     "varRefreshCmd": "cat(var_dic_list()) "
    }
   },
   "position": {
    "height": "785.85px",
    "left": "1545px",
    "right": "20px",
    "top": "120px",
    "width": "356px"
   },
   "types_to_exclude": [
    "module",
    "function",
    "builtin_function_or_method",
    "instance",
    "_Feature"
   ],
   "window_display": true
  }
 },
 "nbformat": 4,
 "nbformat_minor": 5
}
