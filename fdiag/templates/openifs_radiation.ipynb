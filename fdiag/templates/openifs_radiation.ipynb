{
 "cells": [
  {
   "cell_type": "code",
   "execution_count": 50,
   "id": "cae14014",
   "metadata": {},
   "outputs": [],
   "source": [
    "import xarray as xr\n",
    "import os\n",
    "import pandas as pd\n",
    "import tqdm\n",
    "import dask\n",
    "import numpy as np\n",
    "from dask.delayed import delayed\n",
    "from dask.diagnostics import ProgressBar\n",
    "from collections import OrderedDict\n",
    "from itertools import product\n",
    "import os\n",
    "import math\n",
    "from netCDF4 import Dataset\n",
    "from cdo import *   # python version\n",
    "cdo = Cdo()\n",
    "import matplotlib.pylab as plt\n",
    "%matplotlib inline"
   ]
  },
  {
   "cell_type": "code",
   "execution_count": 58,
   "id": "895daaf7",
   "metadata": {
    "tags": [
     "parameters"
    ]
   },
   "outputs": [],
   "source": [
    "# parameters cell\n",
    "input_paths = ['/p/scratch/chhb19/jstreffi/runtime/awicm-3.1/MASS/outdata/oifs/links_combined_with_SPIN',\n",
    "               '/p/scratch/chhb19/jstreffi/runtime/awicm-3.1/HIST/outdata/oifs/links_combined_with_SPIN']\n",
    "\n",
    "input_names = ['MASS', 'HIST']\n",
    "climatology_path = ['/p/project/chhb19/streffing1/obs/era5/netcdf/']\n",
    "accumulation_period = 21600 # output frequency of OpenIFS in seconds\n",
    "exps = range(1, 3)\n",
    "figsize=(8, 4)\n",
    "dpi = 300\n",
    "smooth_window = 5\n",
    "ofile = None\n",
    "var = ['SSR', 'STR', 'TSR', 'TTR', 'SLHF', 'SSHF'] \n",
    "#var must have order:  \n",
    "#1. Surface net solar radiation\n",
    "#2. Surface net thermal radiation\n",
    "#3. Top net solar radiation\n",
    "#4. Top net thermal radiation"
   ]
  },
  {
   "cell_type": "code",
   "execution_count": 52,
   "id": "cb104f6e",
   "metadata": {},
   "outputs": [],
   "source": [
    "def smooth(x,beta,smooth_window):\n",
    "    \"\"\" kaiser window smoothing \"\"\"\n",
    "    window_len=2*smooth_window+1\n",
    "    beta=2*smooth_window\n",
    "    # extending the data at beginning and at the end\n",
    "    # to apply the window at the borders\n",
    "    s = np.r_[x[window_len-1:0:-1],x,x[-1:-window_len:-1]]\n",
    "    w = np.kaiser(window_len,beta)\n",
    "    y = np.convolve(w/w.sum(),s,mode='valid')\n",
    "    return y[smooth_window:len(y)-smooth_window]\n",
    "\n",
    "def define_rowscol(input_paths, columns=len(input_paths), reduce=0):\n",
    "    number_paths = len(input_paths) - reduce\n",
    "#     columns = columns\n",
    "    if number_paths < columns:\n",
    "        ncol = number_paths\n",
    "    else:\n",
    "        ncol = columns\n",
    "    nrows = math.ceil(number_paths / columns)\n",
    "    return [nrows, ncol]"
   ]
  },
  {
   "cell_type": "code",
   "execution_count": 53,
   "id": "5cd06a16",
   "metadata": {},
   "outputs": [
    {
     "name": "stderr",
     "output_type": "stream",
     "text": [
      "100%|████████████████████████████████████████████████████████████████████████████████████████████████████████████████████████████████████████████████████████████████████████████████| 2/2 [00:00<00:00,  2.14it/s]\n",
      "100%|████████████████████████████████████████████████████████████████████████████████████████████████████████████████████████████████████████████████████████████████████████████████| 2/2 [00:00<00:00,  2.16it/s]\n",
      "100%|████████████████████████████████████████████████████████████████████████████████████████████████████████████████████████████████████████████████████████████████████████████████| 2/2 [00:00<00:00,  2.16it/s]\n",
      "100%|████████████████████████████████████████████████████████████████████████████████████████████████████████████████████████████████████████████████████████████████████████████████| 2/2 [00:00<00:00,  2.15it/s]\n",
      "100%|████████████████████████████████████████████████████████████████████████████████████████████████████████████████████████████████████████████████████████████████████████████████| 2/2 [00:00<00:00,  2.16it/s]\n",
      "100%|████████████████████████████████████████████████████████████████████████████████████████████████████████████████████████████████████████████████████████████████████████████████| 2/2 [00:00<00:00,  2.14it/s]\n"
     ]
    }
   ],
   "source": [
    "# Load model Data\n",
    "\n",
    "data = OrderedDict()\n",
    "for \n",
    "for v in var:\n",
    "    paths = []\n",
    "    data[v] = []\n",
    "    for exp in tqdm.tqdm(exps):\n",
    "        path = input_paths[0]+'/'+v+'_'+f'{exp:05d}.nc'\n",
    "        data[v].append(cdo.yearmean(input=\"-fldmean \"+str(path),returnArray=v)/accumulation_period)"
   ]
  },
  {
   "cell_type": "code",
   "execution_count": 54,
   "id": "844a42bf",
   "metadata": {},
   "outputs": [
    {
     "name": "stdout",
     "output_type": "stream",
     "text": [
      "<class 'list'>\n"
     ]
    }
   ],
   "source": [
    "print(type(data[v]))"
   ]
  },
  {
   "cell_type": "code",
   "execution_count": 55,
   "id": "b70969f1",
   "metadata": {},
   "outputs": [],
   "source": [
    "surface =   np.squeeze(data['SSR']).flatten() + \\\n",
    "            np.squeeze(data['STR']).flatten() + \\\n",
    "            np.squeeze(data['SSHF']).flatten() + \\\n",
    "            np.squeeze(data['SLHF']).flatten()\n",
    "toa = np.squeeze(data['TSR']).flatten() + \\\n",
    "      np.squeeze(data['TTR']).flatten()"
   ]
  },
  {
   "cell_type": "code",
   "execution_count": 59,
   "id": "9d79bcdf",
   "metadata": {},
   "outputs": [
    {
     "data": {
      "image/png": "[encoded data removed]",
      "text/plain": [
       "<Figure size 576x288 with 1 Axes>"
      ]
     },
     "metadata": {
      "needs_background": "light"
     },
     "output_type": "display_data"
    }
   ],
   "source": [
    "fig, axes = plt.subplots(figsize=figsize)\n",
    "\n",
    "plt.plot(smooth(surface,len(surface),smooth_window),color='blue')\n",
    "plt.plot(smooth(toa,len(toa),smooth_window),color='red')\n",
    "plt.plot(smooth(toa-surface,len(toa-surface),smooth_window),color='green')\n",
    "#axes.tick_params(labelright=True)\n",
    "\n",
    "plt.plot(surface,linewidth=0.5,color='blue')\n",
    "plt.plot(toa,linewidth=0.5,color='red')\n",
    "plt.plot(toa-surface,linewidth=0.5,color='green')\n",
    "\n",
    "\n",
    "plt.axhline(y=0, color='black', linestyle='-')\n",
    "plt.ylabel('W/m²')\n",
    "plt.xlabel('Simulation Year')\n",
    "\n",
    "axes.legend(['Net SFC', 'Net TOA', 'Net TOA - Net SFC'])\n",
    "\n",
    "\n",
    "if ofile is not None:\n",
    "    ofile_long = f\"{ofile}_imbalance_combined.png\"\n",
    "    plt.savefig(f\"{ofile_long}\", dpi=dpi)\n",
    "    os.system(f'convert {ofile_long} -trim {ofile_long}_trimmed.png')\n",
    "    os.system(f'mv {ofile_long}_trimmed.png {ofile_long}')"
   ]
  },
  {
   "cell_type": "code",
   "execution_count": null,
   "id": "e531f597",
   "metadata": {},
   "outputs": [],
   "source": []
  }
 ],
 "metadata": {
  "celltoolbar": "Tags",
  "kernelspec": {
   "display_name": "Python 3 (ipykernel)",
   "language": "python",
   "name": "python3"
  },
  "language_info": {
   "codemirror_mode": {
    "name": "ipython",
    "version": 3
   },
   "file_extension": ".py",
   "mimetype": "text/x-python",
   "name": "python",
   "nbconvert_exporter": "python",
   "pygments_lexer": "ipython3",
   "version": "3.9.6"
  },
  "varInspector": {
   "cols": {
    "lenName": 16,
    "lenType": 16,
    "lenVar": 40
   },
   "kernels_config": {
    "python": {
     "delete_cmd_postfix": "",
     "delete_cmd_prefix": "del ",
     "library": "var_list.py",
     "varRefreshCmd": "print(var_dic_list())"
    },
    "r": {
     "delete_cmd_postfix": ") ",
     "delete_cmd_prefix": "rm(",
     "library": "var_list.r",
     "varRefreshCmd": "cat(var_dic_list()) "
    }
   },
   "position": {
    "height": "785.85px",
    "left": "1545px",
    "right": "20px",
    "top": "120px",
    "width": "356px"
   },
   "types_to_exclude": [
    "module",
    "function",
    "builtin_function_or_method",
    "instance",
    "_Feature"
   ],
   "window_display": true
  }
 },
 "nbformat": 4,
 "nbformat_minor": 5
}
