{
 "cells": [
  {
   "cell_type": "code",
   "execution_count": 1,
   "metadata": {},
   "outputs": [],
   "source": [
    "import pyfesom2 as pf\n",
    "import xarray as xr\n",
    "import os\n",
    "import pandas as pd\n",
    "from collections import OrderedDict\n",
    "from itertools import product\n",
    "import matplotlib.pylab as plt\n",
    "import numpy as np\n",
    "from matplotlib import cm\n",
    "%matplotlib inline"
   ]
  },
  {
   "cell_type": "code",
   "execution_count": 32,
   "metadata": {
    "tags": [
     "parameters"
    ]
   },
   "outputs": [],
   "source": [
    "# parameters cell\n",
    "meshpath = '/Users/nkolduno/PYTHON/DATA/core2_meanz_mesh/'\n",
    "abg = [50, 15, -90]\n",
    "variable = 'temp'\n",
    "input_paths = ['/Users/nkolduno/PYTHON/DATA/output_7_8/',\n",
    "               \"/Users/nkolduno/PYTHON/DATA/output_7_10/\",\n",
    "               ]\n",
    "input_names = ['control', 'opt1']\n",
    "years = range(1978, 1986)\n",
    "reference_path = '/Users/nkolduno/PYTHON/DATA/CLIM_on_mesh/core2_meanz/'\n",
    "reference_name = 'clim'\n",
    "reference_years = 1948\n",
    "figsize=(10, 5)\n",
    "levels = [-1, 1, 41]\n",
    "maxdepth = 2000\n",
    "units = r'$^\\circ$C'\n",
    "columns = 2\n",
    "dpi = 200\n",
    "ofile = None\n",
    "region = \"Eurasian basin\"\n",
    "cached_path = None"
   ]
  },
  {
   "cell_type": "code",
   "execution_count": 33,
   "metadata": {},
   "outputs": [],
   "source": [
    "if input_names is None:\n",
    "    input_names = []\n",
    "    for run in input_paths:\n",
    "        run = os.path.join(run, '')\n",
    "        input_names.append(run.split('/')[-2])\n"
   ]
  },
  {
   "cell_type": "code",
   "execution_count": 34,
   "metadata": {},
   "outputs": [
    {
     "name": "stdout",
     "output_type": "stream",
     "text": [
      "/Users/nkolduno/PYTHON/DATA/core2_meanz_mesh/pickle_mesh_py3_fesom2\n",
      "The usepickle == True)\n",
      "The pickle file for FESOM2 exists.\n",
      "The mesh will be loaded from /Users/nkolduno/PYTHON/DATA/core2_meanz_mesh/pickle_mesh_py3_fesom2\n"
     ]
    }
   ],
   "source": [
    "mesh = pf.load_mesh(meshpath, abg=abg, \n",
    "                    usepickle=True, usejoblib=False)"
   ]
  },
  {
   "cell_type": "code",
   "execution_count": 62,
   "metadata": {},
   "outputs": [],
   "source": [
    "def get_data_cache(cached_path,\n",
    "                   exp_name,\n",
    "                   exp_path,\n",
    "                   variable,\n",
    "                   years,\n",
    "                   mesh,\n",
    "                   depth=None, \n",
    "                   how='mean',\n",
    "                   compute=True,\n",
    "                   silent=True):\n",
    "    \n",
    "    if cached_path is None:\n",
    "        cached_path = exp_path\n",
    "    \n",
    "    if depth is None:\n",
    "        depth_cache = '3d'\n",
    "    else:\n",
    "        depth_cache = depth\n",
    "        \n",
    "    if how is None:\n",
    "        how_cache = \"timeseries\"\n",
    "    else:\n",
    "        how_cache = \"how\"\n",
    "        \n",
    "    if cached_path is False:\n",
    "        data_out = pf.get_data(exp_path,\n",
    "                               variable,\n",
    "                               years,\n",
    "                               mesh,\n",
    "                               depth = depth,\n",
    "                               how=how,\n",
    "                               compute=compute,\n",
    "                               silent=silent)\n",
    "        return data_out\n",
    "    \n",
    "    else:\n",
    "        if not isinstance(years, (list, np.ndarray, range)):\n",
    "            years_str = [years]\n",
    "        else:\n",
    "            years_str = years\n",
    "        print(years_str)\n",
    "        cached_file = f\"{cached_path}/{exp_name}_{variable}_{years_str[0]}_{years_str[-1]}_{depth_cache}_{how_cache}.nc\"\n",
    "        print(cached_file)\n",
    "        if os.path.exists(cached_file):\n",
    "            print('use cached')\n",
    "            data_out = xr.open_dataset(cached_file)\n",
    "            data_out = data_out[variable]\n",
    "        else:\n",
    "            print('compute')\n",
    "            data_out = pf.get_data(exp_path,\n",
    "                               variable,\n",
    "                               years,\n",
    "                               mesh,\n",
    "                               depth = depth,\n",
    "                               how=how,\n",
    "                               compute=False,\n",
    "                               silent=silent)\n",
    "            data_out.to_netcdf(cached_file)\n",
    "    if compute:\n",
    "        data_out = data_out.compute()\n",
    "        data_out = data_out.data\n",
    "                \n",
    "    return data_out"
   ]
  },
  {
   "cell_type": "code",
   "execution_count": 63,
   "metadata": {},
   "outputs": [
    {
     "name": "stdout",
     "output_type": "stream",
     "text": [
      "[1948]\n",
      "/Users/nkolduno/PYTHON/DATA/CLIM_on_mesh/core2_meanz//clim_temp_1948_1948_3d_timeseries.nc\n",
      "compute\n",
      "range(1978, 1986)\n",
      "/Users/nkolduno/PYTHON/DATA/output_7_8//control_temp_1978_1985_3d_timeseries.nc\n",
      "compute\n"
     ]
    },
    {
     "name": "stderr",
     "output_type": "stream",
     "text": [
      "/Users/nkolduno/miniconda3/envs/pyfesom2/lib/python3.8/site-packages/dask/core.py:121: RuntimeWarning: invalid value encountered in true_divide\n",
      "  return func(*(_execute_task(a, cache) for a in args))\n",
      "/Users/nkolduno/miniconda3/envs/pyfesom2/lib/python3.8/site-packages/dask/core.py:121: RuntimeWarning: invalid value encountered in true_divide\n",
      "  return func(*(_execute_task(a, cache) for a in args))\n"
     ]
    },
    {
     "name": "stdout",
     "output_type": "stream",
     "text": [
      "control\n",
      "range(1978, 1986)\n",
      "/Users/nkolduno/PYTHON/DATA/output_7_10//opt1_temp_1978_1985_3d_timeseries.nc\n",
      "compute\n",
      "opt1\n"
     ]
    },
    {
     "name": "stderr",
     "output_type": "stream",
     "text": [
      "/Users/nkolduno/miniconda3/envs/pyfesom2/lib/python3.8/site-packages/dask/core.py:121: RuntimeWarning: invalid value encountered in true_divide\n",
      "  return func(*(_execute_task(a, cache) for a in args))\n"
     ]
    }
   ],
   "source": [
    "hofm = OrderedDict()\n",
    "mask = pf.get_mask(mesh, region)\n",
    "data_reference = get_data_cache(cached_path, reference_name, reference_path, variable, reference_years, mesh, how=None, silent=True, compute=False)\n",
    "hofm_reference = pf.hovm_data(data_reference, mesh, mask = mask)\n",
    "for exp_path, exp_name  in zip(input_paths, input_names):\n",
    "    data = get_data_cache(cached_path, exp_name, exp_path, variable, years, mesh, how=None, compute=False, silent=True)\n",
    "    title = exp_name+\" - \"+reference_name\n",
    "    hofm[title] = {}\n",
    "    data_difference= pf.hovm_data(data, mesh, mask = mask) - hofm_reference.data\n",
    "    hofm[title]['data'] = data_difference\n",
    "    if (data_difference.max() == data_difference.min() == 0):\n",
    "        hofm[title]['nodiff'] = True\n",
    "    else:\n",
    "        hofm[title]['nodiff'] = False\n",
    "    del data\n",
    "    print(exp_name)"
   ]
  },
  {
   "cell_type": "code",
   "execution_count": 64,
   "metadata": {},
   "outputs": [],
   "source": [
    "def data_to_plot(hofm):\n",
    "    plot_data = []\n",
    "    plot_names = []\n",
    "    for key, value in hofm.items():\n",
    "        if value['nodiff'] is False:\n",
    "            plot_data.append(value['data'])\n",
    "            plot_names.append(key)\n",
    "                \n",
    "    return plot_data, plot_names"
   ]
  },
  {
   "cell_type": "code",
   "execution_count": 65,
   "metadata": {},
   "outputs": [],
   "source": [
    "plot_data, plot_names = data_to_plot(hofm)\n",
    "if not plot_data:\n",
    "    print('There is no difference between fields')\n",
    "    identical = True\n",
    "else:\n",
    "    identical = False\n",
    "\n",
    "if len(plot_data) == 1:\n",
    "    plot_data = plot_data[0]\n",
    "    plot_names = plot_names[0]"
   ]
  },
  {
   "cell_type": "code",
   "execution_count": 66,
   "metadata": {},
   "outputs": [
    {
     "data": {
      "text/plain": [
       "<Figure size 720x360 with 0 Axes>"
      ]
     },
     "metadata": {},
     "output_type": "display_data"
    },
    {
     "data": {
      "image/png": "[encoded data removed]",
      "text/plain": [
       "<Figure size 1152x288 with 4 Axes>"
      ]
     },
     "metadata": {
      "needs_background": "light"
     },
     "output_type": "display_data"
    }
   ],
   "source": [
    "plt.figure(figsize=(10, 5))\n",
    "pf.plot_xyz(mesh, plot_data,\n",
    "             levels = levels, maxdepth=maxdepth, cmap = cm.coolwarm, title=plot_names, ncols=columns)\n",
    "if ofile is not None:\n",
    "    plt.savefig(ofile, dpi=dpi)\n",
    "    os.system(f'convert {ofile} -trim {ofile}_trimmed.png')\n",
    "    os.system(f'mv {ofile}_trimmed.png {ofile}')"
   ]
  },
  {
   "cell_type": "code",
   "execution_count": null,
   "metadata": {},
   "outputs": [],
   "source": []
  },
  {
   "cell_type": "code",
   "execution_count": null,
   "metadata": {},
   "outputs": [],
   "source": []
  },
  {
   "cell_type": "code",
   "execution_count": null,
   "metadata": {},
   "outputs": [],
   "source": []
  },
  {
   "cell_type": "code",
   "execution_count": null,
   "metadata": {},
   "outputs": [],
   "source": []
  },
  {
   "cell_type": "code",
   "execution_count": null,
   "metadata": {},
   "outputs": [],
   "source": []
  },
  {
   "cell_type": "code",
   "execution_count": null,
   "metadata": {},
   "outputs": [],
   "source": []
  },
  {
   "cell_type": "code",
   "execution_count": null,
   "metadata": {},
   "outputs": [],
   "source": []
  },
  {
   "cell_type": "code",
   "execution_count": null,
   "metadata": {},
   "outputs": [],
   "source": []
  }
 ],
 "metadata": {
  "kernelspec": {
   "display_name": "Python 3",
   "language": "python",
   "name": "python3"
  },
  "language_info": {
   "codemirror_mode": {
    "name": "ipython",
    "version": 3
   },
   "file_extension": ".py",
   "mimetype": "text/x-python",
   "name": "python",
   "nbconvert_exporter": "python",
   "pygments_lexer": "ipython3",
   "version": "3.8.5"
  }
 },
 "nbformat": 4,
 "nbformat_minor": 4
}
