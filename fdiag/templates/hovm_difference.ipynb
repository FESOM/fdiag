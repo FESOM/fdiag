{
 "cells": [
  {
   "cell_type": "code",
   "execution_count": 1,
   "metadata": {},
   "outputs": [
    {
     "name": "stdout",
     "output_type": "stream",
     "text": [
      "osgeo is not installed, conversion to Geo formats like Geotiff (fesom2GeoFormat) will not work.\n"
     ]
    }
   ],
   "source": [
    "import pyfesom2 as pf\n",
    "import xarray as xr\n",
    "import os\n",
    "import pandas as pd\n",
    "from collections import OrderedDict\n",
    "from itertools import product\n",
    "import matplotlib.pylab as plt\n",
    "import numpy as np\n",
    "from matplotlib import cm\n",
    "%matplotlib inline\n",
    "import matplotlib.pylab as plt\n",
    "from matplotlib.ticker import (MultipleLocator, FormatStrFormatter,\n",
    "                               AutoMinorLocator)\n"
   ]
  },
  {
   "cell_type": "code",
   "execution_count": 16,
   "metadata": {
    "tags": [
     "parameters"
    ]
   },
   "outputs": [],
   "source": [
    "# parameters cell\n",
    "meshpath = '/p/project/chhb19/streffing1/input/fesom2/core2/'\n",
    "abg = [0, 0, 0]\n",
    "variable = 'temp'\n",
    "input_paths = [\"/p/largedata/hhb19/jstreffi/runtime/awicm-3.1/SPIN/outdata/fesom/\",\"/p/largedata/hhb19/jstreffi/runtime/awicm-3.1/HIST/outdata/fesom/\"\n",
    "               ]\n",
    "input_names = ['SPIN','HIST']\n",
    "years = range(1850, 1855)\n",
    "reference_path = '/p/project/chhb19/streffing1/postprocessing/climatologies/fdiag/output_awicm3/'\n",
    "reference_name = 'clim'\n",
    "reference_years = 1958\n",
    "figsize=(9,5.56)\n",
    "levels = [-1.5, 1.5, 41]\n",
    "maxdepth = 2000\n",
    "units = r'$^\\circ$C'\n",
    "columns = 2\n",
    "dpi = 300\n",
    "ofile = None\n",
    "region = \"Global Ocean\""
   ]
  },
  {
   "cell_type": "code",
   "execution_count": 17,
   "metadata": {},
   "outputs": [],
   "source": [
    "if input_names is None:\n",
    "    input_names = []\n",
    "    for run in input_paths:\n",
    "        run = os.path.join(run, '')\n",
    "        input_names.append(run.split('/')[-2])"
   ]
  },
  {
   "cell_type": "code",
   "execution_count": 18,
   "metadata": {},
   "outputs": [
    {
     "name": "stdout",
     "output_type": "stream",
     "text": [
      "/p/project/chhb19/streffing1/input/fesom2/core2/pickle_mesh_py3_fesom2\n",
      "The usepickle == True)\n",
      "The pickle file for FESOM2 exists.\n",
      "The mesh will be loaded from /p/project/chhb19/streffing1/input/fesom2/core2/pickle_mesh_py3_fesom2\n"
     ]
    }
   ],
   "source": [
    "mesh = pf.load_mesh(meshpath, abg=abg, \n",
    "                    usepickle=True, usejoblib=False)"
   ]
  },
  {
   "cell_type": "code",
   "execution_count": 19,
   "metadata": {},
   "outputs": [
    {
     "name": "stdout",
     "output_type": "stream",
     "text": [
      "('time', 'nod2', 'nz1')\n",
      "True\n",
      "True\n",
      "False\n",
      "<xarray.DataArray 'nod_area' (nz1: 47, nod2: 126858)>\n",
      "[5962326 values with dtype=float64]\n",
      "Dimensions without coordinates: nz1, nod2\n",
      "Attributes:\n",
      "    long_name:  nodal areas\n"
     ]
    },
    {
     "name": "stderr",
     "output_type": "stream",
     "text": [
      "/p/project/chhb19/jstreffi/software/miniconda3/envs/pyfesom2/lib/python3.9/site-packages/dask/core.py:121: RuntimeWarning: invalid value encountered in true_divide\n",
      "  return func(*(_execute_task(a, cache) for a in args))\n"
     ]
    },
    {
     "name": "stdout",
     "output_type": "stream",
     "text": [
      "('time', 'nod2', 'nz1')\n",
      "True\n",
      "True\n",
      "False\n",
      "<xarray.DataArray 'nod_area' (nz1: 47, nod2: 126858)>\n",
      "[5962326 values with dtype=float64]\n",
      "Dimensions without coordinates: nz1, nod2\n",
      "Attributes:\n",
      "    long_name:  nodal areas\n"
     ]
    },
    {
     "name": "stderr",
     "output_type": "stream",
     "text": [
      "/p/project/chhb19/jstreffi/software/miniconda3/envs/pyfesom2/lib/python3.9/site-packages/dask/core.py:121: RuntimeWarning: invalid value encountered in true_divide\n",
      "  return func(*(_execute_task(a, cache) for a in args))\n"
     ]
    },
    {
     "name": "stdout",
     "output_type": "stream",
     "text": [
      "('time', 'nod2', 'nz1')\n",
      "True\n",
      "True\n",
      "False\n",
      "<xarray.DataArray 'nod_area' (nz1: 47, nod2: 126858)>\n",
      "[5962326 values with dtype=float64]\n",
      "Dimensions without coordinates: nz1, nod2\n",
      "Attributes:\n",
      "    long_name:  nodal areas\n"
     ]
    },
    {
     "name": "stderr",
     "output_type": "stream",
     "text": [
      "/p/project/chhb19/jstreffi/software/miniconda3/envs/pyfesom2/lib/python3.9/site-packages/dask/core.py:121: RuntimeWarning: invalid value encountered in true_divide\n",
      "  return func(*(_execute_task(a, cache) for a in args))\n"
     ]
    }
   ],
   "source": [
    "import time\n",
    "\n",
    "\n",
    "\n",
    "\n",
    "hofm = OrderedDict()\n",
    "mask = pf.get_mask(mesh, region)\n",
    "data_reference = pf.get_data(reference_path, variable, reference_years, mesh, how=None, silent=True, compute=False)\n",
    "hofm_reference = pf.hovm_data(data_reference, mesh, mask = mask)\n",
    "\n",
    "\n",
    "\n",
    "for exp_path, exp_name  in zip(input_paths, input_names):\n",
    "    data = pf.get_data(exp_path, variable, years, mesh, how=None, compute=False, silent=True)\n",
    "    title = exp_name+\" - \"+reference_name\n",
    "    hofm[title] = {}\n",
    "    data_difference= pf.hovm_data(data, mesh, mask = mask) - hofm_reference.data\n",
    "    hofm[title]['data'] = data_difference\n",
    "    if (data_difference.max() == data_difference.min() == 0):\n",
    "        hofm[title]['nodiff'] = True\n",
    "    else:\n",
    "        hofm[title]['nodiff'] = False\n",
    "    del data\n",
    "\n",
    "\n",
    "    \n"
   ]
  },
  {
   "cell_type": "code",
   "execution_count": 20,
   "metadata": {},
   "outputs": [],
   "source": [
    "def data_to_plot(hofm):\n",
    "    plot_data = []\n",
    "    plot_names = []\n",
    "    for key, value in hofm.items():\n",
    "        if value['nodiff'] is False:\n",
    "            plot_data.append(value['data'])\n",
    "            plot_names.append(key)\n",
    "                \n",
    "    return plot_data, plot_names"
   ]
  },
  {
   "cell_type": "code",
   "execution_count": 21,
   "metadata": {},
   "outputs": [],
   "source": [
    "plot_data, plot_names = data_to_plot(hofm)\n",
    "if not plot_data:\n",
    "    print('There is no difference between fields')\n",
    "    identical = True\n",
    "else:\n",
    "    identical = False\n",
    "\n",
    "if len(plot_data) == 1:\n",
    "    plot_data = plot_data[0]\n",
    "    plot_names = plot_names[0]"
   ]
  },
  {
   "cell_type": "code",
   "execution_count": 22,
   "metadata": {},
   "outputs": [
    {
     "data": {
      "text/plain": [
       "<Figure size 648x400.32 with 0 Axes>"
      ]
     },
     "metadata": {},
     "output_type": "display_data"
    },
    {
     "data": {
      "image/png": "[encoded data removed]",
      "text/plain": [
       "<Figure size 1152x288 with 4 Axes>"
      ]
     },
     "metadata": {
      "needs_background": "light"
     },
     "output_type": "display_data"
    }
   ],
   "source": [
    "plt.figure(figsize=figsize)\n",
    "pf.plot_xyz(mesh, plot_data,\n",
    "             levels = levels, maxdepth=maxdepth, cmap = cm.coolwarm, title=plot_names, ncols=columns)\n",
    "if ofile is not None:\n",
    "    plt.savefig(ofile, dpi=dpi)\n",
    "    os.system(f'convert {ofile} -trim {ofile}_trimmed.png')\n",
    "    os.system(f'mv {ofile}_trimmed.png {ofile}')"
   ]
  },
  {
   "cell_type": "code",
   "execution_count": null,
   "metadata": {},
   "outputs": [],
   "source": []
  }
 ],
 "metadata": {
  "kernelspec": {
   "display_name": "Python 3 (ipykernel)",
   "language": "python",
   "name": "python3"
  },
  "language_info": {
   "codemirror_mode": {
    "name": "ipython",
    "version": 3
   },
   "file_extension": ".py",
   "mimetype": "text/x-python",
   "name": "python",
   "nbconvert_exporter": "python",
   "pygments_lexer": "ipython3",
   "version": "3.9.9"
  }
 },
 "nbformat": 4,
 "nbformat_minor": 4
}
